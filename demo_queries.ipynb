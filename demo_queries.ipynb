{
 "cells": [
  {
   "cell_type": "code",
   "execution_count": null,
   "metadata": {},
   "outputs": [],
   "source": [
    "import elasticsearch\n",
    "from pprint import pprint"
   ]
  },
  {
   "cell_type": "code",
   "execution_count": null,
   "metadata": {},
   "outputs": [],
   "source": [
    "es = elasticsearch.Elasticsearch(['localhost:9200'])"
   ]
  },
  {
   "cell_type": "code",
   "execution_count": null,
   "metadata": {},
   "outputs": [],
   "source": [
    "# Get all datasets from a discovery plugin\n",
    "hits = es.search(\n",
    "    index='datamart',\n",
    "    body={\n",
    "        'query': {\n",
    "            'match': {\n",
    "                'materialize.identifier': 'datamart.example.example_discoverer',\n",
    "            },\n",
    "        },\n",
    "    },\n",
    ")['hits']['hits']\n",
    "for h in hits:\n",
    "    h = h['_source']\n",
    "    pprint(h)"
   ]
  },
  {
   "cell_type": "code",
   "execution_count": null,
   "metadata": {
    "scrolled": false
   },
   "outputs": [],
   "source": [
    "# Search by keyword\n",
    "hits = es.search(\n",
    "    index='datamart',\n",
    "    body={\n",
    "        'query': {\n",
    "            'term': {\n",
    "                'description': 'thyroid',\n",
    "            },\n",
    "        },\n",
    "    },\n",
    ")['hits']['hits']\n",
    "for h in hits:\n",
    "    h = h['_source']\n",
    "    if 'description' in h:\n",
    "        h['description'] = h['description'][:20] + \"...\"\n",
    "    pprint(h)\n",
    "    print('\\n')"
   ]
  },
  {
   "cell_type": "code",
   "execution_count": null,
   "metadata": {
    "scrolled": false
   },
   "outputs": [],
   "source": [
    "# Search by column name\n",
    "hits = es.search(\n",
    "    index='datamart',\n",
    "    body={\n",
    "        'query': {\n",
    "            'nested': {\n",
    "                'path': 'columns',\n",
    "                # Metadata with specific columns\n",
    "                'query': {\n",
    "                    'match': {\n",
    "                        'columns.name': 'region',\n",
    "                    },\n",
    "                },\n",
    "            },\n",
    "        },\n",
    "    },\n",
    ")['hits']['hits']\n",
    "for h in hits:\n",
    "    h = h['_source']\n",
    "    if 'description' in h:\n",
    "        h['description'] = h['description'][:20] + \"...\"\n",
    "    pprint(h)\n",
    "    print('\\n')"
   ]
  },
  {
   "cell_type": "code",
   "execution_count": null,
   "metadata": {},
   "outputs": [],
   "source": []
  }
 ],
 "metadata": {
  "kernelspec": {
   "display_name": "_datamart",
   "language": "python",
   "name": "_datamart"
  },
  "language_info": {
   "codemirror_mode": {
    "name": "ipython",
    "version": 3
   },
   "file_extension": ".py",
   "mimetype": "text/x-python",
   "name": "python",
   "nbconvert_exporter": "python",
   "pygments_lexer": "ipython3",
   "version": "3.6.6"
  }
 },
 "nbformat": 4,
 "nbformat_minor": 2
}
