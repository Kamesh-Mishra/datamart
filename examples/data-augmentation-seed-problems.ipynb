{
 "cells": [
  {
   "cell_type": "markdown",
   "metadata": {},
   "source": [
    "## Data Augmentation Seed Problems: NYU DataMart"
   ]
  },
  {
   "cell_type": "markdown",
   "metadata": {},
   "source": [
    "The purpose of this notebook is to investigate if and how the NYU DataMart finds the companion datasets for the data augmentation seed problems."
   ]
  },
  {
   "cell_type": "code",
   "execution_count": 1,
   "metadata": {},
   "outputs": [],
   "source": [
    "from d3m import container\n",
    "import datamart\n",
    "import datamart_nyu\n",
    "from pathlib import Path\n",
    "import time"
   ]
  },
  {
   "cell_type": "code",
   "execution_count": 2,
   "metadata": {},
   "outputs": [],
   "source": [
    "def print_results(results):\n",
    "    print(\"\\n-------------------\")\n",
    "    if not results:\n",
    "        print(\"No results!\")\n",
    "        return\n",
    "    for result in results:\n",
    "        print(result.score())\n",
    "        print(result.get_json_metadata()['metadata']['name'])\n",
    "        if (result.get_augment_hint()):\n",
    "            left_columns = []\n",
    "            for column_ in result.get_augment_hint().left_columns:\n",
    "                left_columns.append([])\n",
    "                for column in column_:\n",
    "                    left_columns[-1].append((column.resource_id, column.column_index))\n",
    "            print(\"Left Columns: %s\" % str(left_columns))\n",
    "            right_columns = []\n",
    "            for column_ in result.get_augment_hint().right_columns:\n",
    "                right_columns.append([])\n",
    "                for column in column_:\n",
    "                    right_columns[-1].append((column.resource_id, column.column_index))\n",
    "            print(\"Right Columns: %s\" % str(right_columns))\n",
    "        else:\n",
    "            print(result.id())\n",
    "        print(\"-------------------\")"
   ]
  },
  {
   "cell_type": "code",
   "execution_count": 3,
   "metadata": {},
   "outputs": [],
   "source": [
    "client = datamart_nyu.RESTDatamart('https://datamart.d3m.vida-nyu.org')"
   ]
  },
  {
   "cell_type": "code",
   "execution_count": 4,
   "metadata": {},
   "outputs": [],
   "source": [
    "# home directory for data augmentation seed datasets\n",
    "# change this accordingly\n",
    "home_dir = str(Path.home()) + '/projects/d3m/datasets/seed_datasets_data_augmentation/'"
   ]
  },
  {
   "cell_type": "markdown",
   "metadata": {},
   "source": [
    "### DA_college_debt"
   ]
  },
  {
   "cell_type": "markdown",
   "metadata": {},
   "source": [
    "Loading the supplied data."
   ]
  },
  {
   "cell_type": "code",
   "execution_count": 3,
   "metadata": {},
   "outputs": [],
   "source": [
    "college_debt_file = home_dir + 'DA_college_debt/DA_college_debt_dataset/datasetDoc.json'\n",
    "college_debt = container.Dataset.load('file://' + college_debt_file)"
   ]
  },
  {
   "cell_type": "code",
   "execution_count": 4,
   "metadata": {},
   "outputs": [
    {
     "data": {
      "text/html": [
       "<div>\n",
       "<style scoped>\n",
       "    .dataframe tbody tr th:only-of-type {\n",
       "        vertical-align: middle;\n",
       "    }\n",
       "\n",
       "    .dataframe tbody tr th {\n",
       "        vertical-align: top;\n",
       "    }\n",
       "\n",
       "    .dataframe thead th {\n",
       "        text-align: right;\n",
       "    }\n",
       "</style>\n",
       "<table border=\"1\" class=\"dataframe\">\n",
       "  <thead>\n",
       "    <tr style=\"text-align: right;\">\n",
       "      <th></th>\n",
       "      <th>d3mIndex</th>\n",
       "      <th>UNITID</th>\n",
       "      <th>INSTNM</th>\n",
       "      <th>PCTFLOAN</th>\n",
       "      <th>CONTROL</th>\n",
       "      <th>STABBR</th>\n",
       "      <th>PCIP16</th>\n",
       "      <th>MD_EARN_WNE_P10</th>\n",
       "      <th>PPTUG_EF</th>\n",
       "      <th>UGDS_WHITE</th>\n",
       "      <th>UGDS_BLACK</th>\n",
       "      <th>UGDS_HISP</th>\n",
       "      <th>UGDS_ASIAN</th>\n",
       "      <th>SATMTMID</th>\n",
       "      <th>SATVRMID</th>\n",
       "      <th>SATWRMID</th>\n",
       "      <th>UGDS</th>\n",
       "      <th>PREDDEG</th>\n",
       "      <th>DEBT_EARNINGS_RATIO</th>\n",
       "    </tr>\n",
       "  </thead>\n",
       "  <tbody>\n",
       "    <tr>\n",
       "      <th>0</th>\n",
       "      <td>0</td>\n",
       "      <td>12268508</td>\n",
       "      <td>San Joaquin Valley College-Rancho Cordova</td>\n",
       "      <td></td>\n",
       "      <td>3</td>\n",
       "      <td>CA</td>\n",
       "      <td></td>\n",
       "      <td>28300</td>\n",
       "      <td></td>\n",
       "      <td></td>\n",
       "      <td></td>\n",
       "      <td></td>\n",
       "      <td></td>\n",
       "      <td></td>\n",
       "      <td></td>\n",
       "      <td></td>\n",
       "      <td></td>\n",
       "      <td>0</td>\n",
       "      <td>49</td>\n",
       "    </tr>\n",
       "    <tr>\n",
       "      <th>1</th>\n",
       "      <td>1</td>\n",
       "      <td>207564</td>\n",
       "      <td>Oklahoma State University Institute of Technology</td>\n",
       "      <td>0.475</td>\n",
       "      <td>1</td>\n",
       "      <td>OK</td>\n",
       "      <td>0.0</td>\n",
       "      <td>35300</td>\n",
       "      <td>0.2297</td>\n",
       "      <td>0.2953</td>\n",
       "      <td>0.0291</td>\n",
       "      <td>0.0647</td>\n",
       "      <td>0.0051</td>\n",
       "      <td></td>\n",
       "      <td></td>\n",
       "      <td></td>\n",
       "      <td>2164.0</td>\n",
       "      <td>2</td>\n",
       "      <td>36</td>\n",
       "    </tr>\n",
       "    <tr>\n",
       "      <th>2</th>\n",
       "      <td>2</td>\n",
       "      <td>420024</td>\n",
       "      <td>Centura College-Chesapeake</td>\n",
       "      <td>0.8125</td>\n",
       "      <td>3</td>\n",
       "      <td>VA</td>\n",
       "      <td>0.0</td>\n",
       "      <td>21900</td>\n",
       "      <td>0.2315</td>\n",
       "      <td>0.2808</td>\n",
       "      <td>0.5665</td>\n",
       "      <td>0.0493</td>\n",
       "      <td>0.0</td>\n",
       "      <td></td>\n",
       "      <td></td>\n",
       "      <td></td>\n",
       "      <td>203.0</td>\n",
       "      <td>2</td>\n",
       "      <td>127</td>\n",
       "    </tr>\n",
       "    <tr>\n",
       "      <th>3</th>\n",
       "      <td>3</td>\n",
       "      <td>164492</td>\n",
       "      <td>Anna Maria College</td>\n",
       "      <td>0.7465</td>\n",
       "      <td>2</td>\n",
       "      <td>MA</td>\n",
       "      <td>0.0</td>\n",
       "      <td>44800</td>\n",
       "      <td>0.2621</td>\n",
       "      <td>0.6518</td>\n",
       "      <td>0.1258</td>\n",
       "      <td>0.1022</td>\n",
       "      <td>0.0123</td>\n",
       "      <td></td>\n",
       "      <td></td>\n",
       "      <td></td>\n",
       "      <td>1057.0</td>\n",
       "      <td>3</td>\n",
       "      <td>76</td>\n",
       "    </tr>\n",
       "    <tr>\n",
       "      <th>4</th>\n",
       "      <td>4</td>\n",
       "      <td>234085</td>\n",
       "      <td>Virginia Military Institute</td>\n",
       "      <td>0.4589</td>\n",
       "      <td>1</td>\n",
       "      <td>VA</td>\n",
       "      <td>0.0321</td>\n",
       "      <td>65700</td>\n",
       "      <td>0.0</td>\n",
       "      <td>0.7992</td>\n",
       "      <td>0.0607</td>\n",
       "      <td>0.0584</td>\n",
       "      <td>0.042</td>\n",
       "      <td>575.0</td>\n",
       "      <td>575.0</td>\n",
       "      <td></td>\n",
       "      <td>1713.0</td>\n",
       "      <td>3</td>\n",
       "      <td>53</td>\n",
       "    </tr>\n",
       "  </tbody>\n",
       "</table>\n",
       "</div>"
      ],
      "text/plain": [
       "  d3mIndex    UNITID                                             INSTNM  \\\n",
       "0        0  12268508          San Joaquin Valley College-Rancho Cordova   \n",
       "1        1    207564  Oklahoma State University Institute of Technology   \n",
       "2        2    420024                         Centura College-Chesapeake   \n",
       "3        3    164492                                 Anna Maria College   \n",
       "4        4    234085                        Virginia Military Institute   \n",
       "\n",
       "  PCTFLOAN CONTROL STABBR  PCIP16 MD_EARN_WNE_P10 PPTUG_EF UGDS_WHITE  \\\n",
       "0                3     CA                   28300                       \n",
       "1    0.475       1     OK     0.0           35300   0.2297     0.2953   \n",
       "2   0.8125       3     VA     0.0           21900   0.2315     0.2808   \n",
       "3   0.7465       2     MA     0.0           44800   0.2621     0.6518   \n",
       "4   0.4589       1     VA  0.0321           65700      0.0     0.7992   \n",
       "\n",
       "  UGDS_BLACK UGDS_HISP UGDS_ASIAN SATMTMID SATVRMID SATWRMID    UGDS PREDDEG  \\\n",
       "0                                                                          0   \n",
       "1     0.0291    0.0647     0.0051                             2164.0       2   \n",
       "2     0.5665    0.0493        0.0                              203.0       2   \n",
       "3     0.1258    0.1022     0.0123                             1057.0       3   \n",
       "4     0.0607    0.0584      0.042    575.0    575.0           1713.0       3   \n",
       "\n",
       "  DEBT_EARNINGS_RATIO  \n",
       "0                  49  \n",
       "1                  36  \n",
       "2                 127  \n",
       "3                  76  \n",
       "4                  53  "
      ]
     },
     "execution_count": 4,
     "metadata": {},
     "output_type": "execute_result"
    }
   ],
   "source": [
    "college_debt['learningData'].head()"
   ]
  },
  {
   "cell_type": "markdown",
   "metadata": {},
   "source": [
    "Without keywords."
   ]
  },
  {
   "cell_type": "code",
   "execution_count": 13,
   "metadata": {},
   "outputs": [],
   "source": [
    "cursor = client.search_with_data(query=None, supplied_data=college_debt)"
   ]
  },
  {
   "cell_type": "code",
   "execution_count": 14,
   "metadata": {
    "scrolled": true
   },
   "outputs": [
    {
     "name": "stdout",
     "output_type": "stream",
     "text": [
      "Duration: 128.7590 seconds\n",
      "\n",
      "-------------------\n",
      "1.0\n",
      "Traffic Signal and All-Way Stop Study Requests\n",
      "Left Columns: [[('learningData', 13)]]\n",
      "Right Columns: [[('0', 0)]]\n",
      "-------------------\n",
      "1.0\n",
      "Traffic Volume Counts (2011-2012)\n",
      "Left Columns: [[('learningData', 13)]]\n",
      "Right Columns: [[('0', 0)]]\n",
      "-------------------\n",
      "1.0\n",
      "Energy Usage From DOE Buildings\n",
      "Left Columns: [[('learningData', 18)]]\n",
      "Right Columns: [[('0', 4)]]\n",
      "-------------------\n",
      "1.0\n",
      "New York City Locations Providing Seasonal Flu Vaccinations\n",
      "Left Columns: [[('learningData', 18)]]\n",
      "Right Columns: [[('0', 1)]]\n",
      "-------------------\n",
      "0.8668730650154799\n",
      "Love Your Local Business List\n",
      "Left Columns: [[('learningData', 15)]]\n",
      "Right Columns: [[('0', 0)]]\n",
      "-------------------\n",
      "0.857566765578635\n",
      "Vehicle Classification Counts (2011-2012)\n",
      "Left Columns: [[('learningData', 13)]]\n",
      "Right Columns: [[('0', 0)]]\n",
      "-------------------\n",
      "0.826625386996904\n",
      "2017 - 2018 Schools NYPD Crime Data Report\n",
      "Left Columns: [[('learningData', 15)]]\n",
      "Right Columns: [[('0', 0)]]\n",
      "-------------------\n",
      "0.798219584569733\n",
      "2015 - 16 School Safety Report\n",
      "Left Columns: [[('learningData', 13)]]\n",
      "Right Columns: [[('0', 0)]]\n",
      "-------------------\n",
      "0.5\n",
      "FIFA 2018 game statistics data\n",
      "Left Columns: [[('learningData', 17)]]\n",
      "Right Columns: [[('0', 8)]]\n",
      "-------------------\n",
      "0.5\n",
      "Election District Poll Sites\n",
      "Left Columns: [[('learningData', 17)]]\n",
      "Right Columns: [[('0', 3)]]\n",
      "-------------------\n",
      "0.4458204334365325\n",
      "Inclusionary Housing Properties\n",
      "Left Columns: [[('learningData', 15)]]\n",
      "Right Columns: [[('0', 0)]]\n",
      "-------------------\n",
      "0.11111111111111112\n",
      "Quality of Governance Abridged\n",
      "Left Columns: [[('learningData', 4)]]\n",
      "Right Columns: [[('0', 9)]]\n",
      "-------------------\n",
      "0.0015931546926519833\n",
      "Over Dimensional Vehicle Permits (ODVP)\n",
      "Left Columns: [[('learningData', 1)]]\n",
      "Right Columns: [[('0', 0)]]\n",
      "-------------------\n",
      "0.0008729616665243747\n",
      "Mayor’s Office of Operations: Demographic Survey\n",
      "Left Columns: [[('learningData', 1)]]\n",
      "Right Columns: [[('0', 0)]]\n",
      "-------------------\n",
      "0.0006009048657739655\n",
      "Over Dimensional Vehicle Permits (ODVP) - Permit Stipulations\n",
      "Left Columns: [[('learningData', 1)]]\n",
      "Right Columns: [[('0', 0)]]\n",
      "-------------------\n"
     ]
    }
   ],
   "source": [
    "start = time.time()\n",
    "results = cursor.get_next_page()\n",
    "print(\"Duration: %.4f seconds\" % (time.time() - start))\n",
    "print_results(results)"
   ]
  },
  {
   "cell_type": "markdown",
   "metadata": {},
   "source": [
    "With keywords."
   ]
  },
  {
   "cell_type": "code",
   "execution_count": 25,
   "metadata": {},
   "outputs": [],
   "source": [
    "query = datamart.DatamartQuery(\n",
    "    keywords=['college scorecard', 'finance', 'debt', 'earnings'],  # from problemDoc.json\n",
    "    variables=[]\n",
    ")\n",
    "cursor = client.search_with_data(query=query, supplied_data=college_debt)"
   ]
  },
  {
   "cell_type": "code",
   "execution_count": 26,
   "metadata": {},
   "outputs": [
    {
     "name": "stdout",
     "output_type": "stream",
     "text": [
      "Duration: 47.2278 seconds\n",
      "\n",
      "-------------------\n",
      "No results!\n"
     ]
    }
   ],
   "source": [
    "start = time.time()\n",
    "results = cursor.get_next_page()\n",
    "print(\"Duration: %.4f seconds\" % (time.time() - start))\n",
    "print_results(results)"
   ]
  },
  {
   "cell_type": "markdown",
   "metadata": {},
   "source": [
    "**Result:** Unfortunately, it doesn't look like there is any useful dataset in our DataMart to solve this problem."
   ]
  },
  {
   "cell_type": "markdown",
   "metadata": {},
   "source": [
    "### DA_consumer_complaints"
   ]
  },
  {
   "cell_type": "markdown",
   "metadata": {},
   "source": [
    "Loading the supplied data."
   ]
  },
  {
   "cell_type": "code",
   "execution_count": 19,
   "metadata": {},
   "outputs": [],
   "source": [
    "consumer_complaints_file = home_dir + 'DA_consumer_complaints/DA_consumer_complaints_dataset/datasetDoc.json'\n",
    "consumer_complaints = container.Dataset.load('file://' + consumer_complaints_file)"
   ]
  },
  {
   "cell_type": "code",
   "execution_count": 20,
   "metadata": {},
   "outputs": [
    {
     "data": {
      "text/html": [
       "<div>\n",
       "<style scoped>\n",
       "    .dataframe tbody tr th:only-of-type {\n",
       "        vertical-align: middle;\n",
       "    }\n",
       "\n",
       "    .dataframe tbody tr th {\n",
       "        vertical-align: top;\n",
       "    }\n",
       "\n",
       "    .dataframe thead th {\n",
       "        text-align: right;\n",
       "    }\n",
       "</style>\n",
       "<table border=\"1\" class=\"dataframe\">\n",
       "  <thead>\n",
       "    <tr style=\"text-align: right;\">\n",
       "      <th></th>\n",
       "      <th>d3mIndex</th>\n",
       "      <th>Complaint ID</th>\n",
       "      <th>State</th>\n",
       "      <th>ZIP code</th>\n",
       "      <th>Company</th>\n",
       "      <th>Consumer complaint narrative</th>\n",
       "      <th>Date sent to company</th>\n",
       "      <th>relevance</th>\n",
       "    </tr>\n",
       "  </thead>\n",
       "  <tbody>\n",
       "    <tr>\n",
       "      <th>0</th>\n",
       "      <td>0</td>\n",
       "      <td>2252221</td>\n",
       "      <td>CA</td>\n",
       "      <td>928XX</td>\n",
       "      <td>Ditech Financial LLC</td>\n",
       "      <td>In XX/XX/XXXX I fell behind on my mortgage. I ...</td>\n",
       "      <td>12/15/16</td>\n",
       "      <td>1</td>\n",
       "    </tr>\n",
       "    <tr>\n",
       "      <th>1</th>\n",
       "      <td>1</td>\n",
       "      <td>1554019</td>\n",
       "      <td>CA</td>\n",
       "      <td>90731</td>\n",
       "      <td>BANK OF AMERICA, NATIONAL ASSOCIATION</td>\n",
       "      <td>None</td>\n",
       "      <td>09/06/15</td>\n",
       "      <td>2</td>\n",
       "    </tr>\n",
       "    <tr>\n",
       "      <th>2</th>\n",
       "      <td>2</td>\n",
       "      <td>2379952</td>\n",
       "      <td>CA</td>\n",
       "      <td>951XX</td>\n",
       "      <td>PORTFOLIO RECOVERY ASSOCIATES INC</td>\n",
       "      <td>Repeatedly calling a family members phone numb...</td>\n",
       "      <td>03/13/17</td>\n",
       "      <td>2</td>\n",
       "    </tr>\n",
       "    <tr>\n",
       "      <th>3</th>\n",
       "      <td>3</td>\n",
       "      <td>1363639</td>\n",
       "      <td>CA</td>\n",
       "      <td>900XX</td>\n",
       "      <td>JPMORGAN CHASE &amp; CO.</td>\n",
       "      <td>I closed my Chase mileage card last year. At t...</td>\n",
       "      <td>05/06/15</td>\n",
       "      <td>0</td>\n",
       "    </tr>\n",
       "    <tr>\n",
       "      <th>4</th>\n",
       "      <td>4</td>\n",
       "      <td>1644731</td>\n",
       "      <td>CA</td>\n",
       "      <td>94703</td>\n",
       "      <td>CITIBANK, N.A.</td>\n",
       "      <td>None</td>\n",
       "      <td>11/09/15</td>\n",
       "      <td>0</td>\n",
       "    </tr>\n",
       "  </tbody>\n",
       "</table>\n",
       "</div>"
      ],
      "text/plain": [
       "  d3mIndex Complaint ID State ZIP code                                Company  \\\n",
       "0        0      2252221    CA    928XX                   Ditech Financial LLC   \n",
       "1        1      1554019    CA    90731  BANK OF AMERICA, NATIONAL ASSOCIATION   \n",
       "2        2      2379952    CA    951XX      PORTFOLIO RECOVERY ASSOCIATES INC   \n",
       "3        3      1363639    CA    900XX                   JPMORGAN CHASE & CO.   \n",
       "4        4      1644731    CA    94703                         CITIBANK, N.A.   \n",
       "\n",
       "                        Consumer complaint narrative Date sent to company  \\\n",
       "0  In XX/XX/XXXX I fell behind on my mortgage. I ...             12/15/16   \n",
       "1                                               None             09/06/15   \n",
       "2  Repeatedly calling a family members phone numb...             03/13/17   \n",
       "3  I closed my Chase mileage card last year. At t...             05/06/15   \n",
       "4                                               None             11/09/15   \n",
       "\n",
       "  relevance  \n",
       "0         1  \n",
       "1         2  \n",
       "2         2  \n",
       "3         0  \n",
       "4         0  "
      ]
     },
     "execution_count": 20,
     "metadata": {},
     "output_type": "execute_result"
    }
   ],
   "source": [
    "consumer_complaints['learningData'].head()"
   ]
  },
  {
   "cell_type": "markdown",
   "metadata": {},
   "source": [
    "Without keywords."
   ]
  },
  {
   "cell_type": "code",
   "execution_count": 29,
   "metadata": {},
   "outputs": [],
   "source": [
    "cursor = client.search_with_data(query=None, supplied_data=consumer_complaints)"
   ]
  },
  {
   "cell_type": "code",
   "execution_count": 30,
   "metadata": {
    "scrolled": true
   },
   "outputs": [
    {
     "name": "stdout",
     "output_type": "stream",
     "text": [
      "Duration: 81.9748 seconds\n",
      "\n",
      "-------------------\n",
      "1.0\n",
      "Traffic Signal and All-Way Stop Study Requests\n",
      "Left Columns: [[('learningData', 6)]]\n",
      "Right Columns: [[('0', 30)]]\n",
      "-------------------\n",
      "1.0\n",
      "Recognized Shop Healthy Stores\n",
      "Left Columns: [[('learningData', 6)]]\n",
      "Right Columns: [[('0', 1)]]\n",
      "-------------------\n",
      "1.0\n",
      "Contractor / Sub Contractor Change Order Report\n",
      "Left Columns: [[('learningData', 6)]]\n",
      "Right Columns: [[('0', 5)]]\n",
      "-------------------\n",
      "1.0\n",
      "Cash Assistance Youth Engagement\n",
      "Left Columns: [[('learningData', 6)]]\n",
      "Right Columns: [[('0', 6)]]\n",
      "-------------------\n",
      "1.0\n",
      "2005 - 2011 Graduation Outcomes - Borough - ELL\n",
      "Left Columns: [[('learningData', 6)]]\n",
      "Right Columns: [[('0', 21)]]\n",
      "-------------------\n",
      "1.0\n",
      "Parking Violations Issued - Fiscal Year 2017\n",
      "Left Columns: [[('learningData', 6)]]\n",
      "Right Columns: [[('0', 23)]]\n",
      "-------------------\n",
      "1.0\n",
      "Parking Violations Issued - Fiscal Year 2015\n",
      "Left Columns: [[('learningData', 6)]]\n",
      "Right Columns: [[('0', 17)]]\n",
      "-------------------\n",
      "1.0\n",
      "FY17 BID Trends Report Data\n",
      "Left Columns: [[('learningData', 6)]]\n",
      "Right Columns: [[('0', 46)]]\n",
      "-------------------\n",
      "1.0\n",
      "2005 - 2011 Graduation Outcomes - Borough - Ethnicity\n",
      "Left Columns: [[('learningData', 6)]]\n",
      "Right Columns: [[('0', 21)]]\n",
      "-------------------\n",
      "1.0\n",
      "2005 - 2011 Graduation Outcomes - Borough  - Total Cohort\n",
      "Left Columns: [[('learningData', 6)]]\n",
      "Right Columns: [[('0', 18)]]\n",
      "-------------------\n",
      "1.0\n",
      "IBRD Statement Of Loans - Historical Data\n",
      "Left Columns: [[('learningData', 6)]]\n",
      "Right Columns: [[('0', 31)]]\n",
      "-------------------\n",
      "1.0\n",
      "Parking Violations Issued - Fiscal Year 2019\n",
      "Left Columns: [[('learningData', 6)]]\n",
      "Right Columns: [[('0', 17)]]\n",
      "-------------------\n",
      "1.0\n",
      "World Bank (IBRD) Bonds (1947-Present)\n",
      "Left Columns: [[('learningData', 6)]]\n",
      "Right Columns: [[('0', 7)]]\n",
      "-------------------\n",
      "1.0\n",
      "Property Exemption Detail\n",
      "Left Columns: [[('learningData', 6)]]\n",
      "Right Columns: [[('0', 32)]]\n",
      "-------------------\n",
      "1.0\n",
      "LPC Permit Application Information\n",
      "Left Columns: [[('learningData', 6)]]\n",
      "Right Columns: [[('0', 23)]]\n",
      "-------------------\n",
      "1.0\n",
      "2016-2017 Local Law 14 Health Data\n",
      "Left Columns: [[('learningData', 6)]]\n",
      "Right Columns: [[('0', 4)]]\n",
      "-------------------\n",
      "1.0\n",
      "DOB Complaints Received\n",
      "Left Columns: [[('learningData', 6)]]\n",
      "Right Columns: [[('0', 13)]]\n",
      "-------------------\n",
      "1.0\n",
      "CATS Permits\n",
      "Left Columns: [[('learningData', 6)]]\n",
      "Right Columns: [[('0', 18)]]\n",
      "-------------------\n",
      "1.0\n",
      "DOF: Open Balance Summary\n",
      "Left Columns: [[('learningData', 6)]]\n",
      "Right Columns: [[('0', 14)]]\n",
      "-------------------\n",
      "1.0\n",
      "2005 - 2011 Graduation Outcomes - Borough - Classes of - Gender\n",
      "Left Columns: [[('learningData', 6)]]\n",
      "Right Columns: [[('0', 21)]]\n",
      "-------------------\n"
     ]
    }
   ],
   "source": [
    "start = time.time()\n",
    "results = cursor.get_next_page()\n",
    "print(\"Duration: %.4f seconds\" % (time.time() - start))\n",
    "print_results(results)"
   ]
  },
  {
   "cell_type": "markdown",
   "metadata": {},
   "source": [
    "With keywords."
   ]
  },
  {
   "cell_type": "code",
   "execution_count": 31,
   "metadata": {},
   "outputs": [],
   "source": [
    "query = datamart.DatamartQuery(\n",
    "    keywords=['consumer', 'complaints', 'protect', 'unfair practices',\n",
    "              'consumer financial protection bureau'],  # from problemDoc.json\n",
    "    variables=[]\n",
    ")\n",
    "cursor = client.search_with_data(query=query, supplied_data=consumer_complaints)"
   ]
  },
  {
   "cell_type": "code",
   "execution_count": 32,
   "metadata": {
    "scrolled": true
   },
   "outputs": [
    {
     "name": "stdout",
     "output_type": "stream",
     "text": [
      "Duration: 35.8385 seconds\n",
      "\n",
      "-------------------\n",
      "1.0\n",
      "DOB Complaints Received\n",
      "Left Columns: [[('learningData', 6)]]\n",
      "Right Columns: [[('0', 13)]]\n",
      "-------------------\n",
      "0.944444445294979\n",
      "Landmarks Complaints\n",
      "Left Columns: [[('learningData', 6)]]\n",
      "Right Columns: [[('0', 2)]]\n",
      "-------------------\n",
      "0.9351851861774755\n",
      "Historical IDA Income Statements Data\n",
      "Left Columns: [[('learningData', 6)]]\n",
      "Right Columns: [[('0', 4)]]\n",
      "-------------------\n",
      "0.9351851861774755\n",
      "Historical IDA Balance Sheets Data\n",
      "Left Columns: [[('learningData', 6)]]\n",
      "Right Columns: [[('0', 5)]]\n",
      "-------------------\n",
      "0.9307760151691404\n",
      "Published Audit List\n",
      "Left Columns: [[('learningData', 6)]]\n",
      "Right Columns: [[('0', 4)]]\n",
      "-------------------\n",
      "0.9109347507348401\n",
      "IFC Investment Services Projects\n",
      "Left Columns: [[('learningData', 6)]]\n",
      "Right Columns: [[('0', 15)]]\n",
      "-------------------\n",
      "0.8948963962952288\n",
      "DOHMH Indoor Environmental Complaints\n",
      "Left Columns: [[('learningData', 6)]]\n",
      "Right Columns: [[('0', 9)]]\n",
      "-------------------\n",
      "0.8946208180040006\n",
      "Bureau of Fire Prevention - Active Violation Orders\n",
      "Left Columns: [[('learningData', 6)]]\n",
      "Right Columns: [[('0', 6)]]\n",
      "-------------------\n",
      "0.8884479836955388\n",
      "DCA Monthly Compliance Report Date for Process Servers\n",
      "Left Columns: [[('learningData', 6)]]\n",
      "Right Columns: [[('0', 2)]]\n",
      "-------------------\n",
      "0.8800705536764951\n",
      "IFC Advisory Services Projects\n",
      "Left Columns: [[('learningData', 6)]]\n",
      "Right Columns: [[('0', 11)]]\n",
      "-------------------\n",
      "0.8752204655673266\n",
      "Afghanistan Reconstruction Trust Fund  (ARTF) - Project Allocations and Disbursements - BETA\n",
      "Left Columns: [[('learningData', 6)]]\n",
      "Right Columns: [[('0', 25)]]\n",
      "-------------------\n",
      "0.8540564447273187\n",
      "MIGA Issued Projects\n",
      "Left Columns: [[('learningData', 6)]]\n",
      "Right Columns: [[('0', 10)]]\n",
      "-------------------\n",
      "0.8172949814453255\n",
      "EMS Incident Dispatch Data\n",
      "Left Columns: [[('learningData', 6)]]\n",
      "Right Columns: [[('0', 15)]]\n",
      "-------------------\n",
      "0.8163029179684501\n",
      "Fire Incident Dispatch Data\n",
      "Left Columns: [[('learningData', 6)]]\n",
      "Right Columns: [[('0', 20)]]\n",
      "-------------------\n",
      "0.7742504443732479\n",
      "Historical IBRD Income Statements Data\n",
      "Left Columns: [[('learningData', 6)]]\n",
      "Right Columns: [[('0', 4)]]\n",
      "-------------------\n",
      "0.7738095323756216\n",
      "Local Law 44 - Projects\n",
      "Left Columns: [[('learningData', 6)]]\n",
      "Right Columns: [[('0', 4)]]\n",
      "-------------------\n",
      "0.6838624387023804\n",
      "Monthly Performance Management Reports (includes Corruption Lectures and Customer Service indicators)\n",
      "Left Columns: [[('learningData', 6)]]\n",
      "Right Columns: [[('0', 1)]]\n",
      "-------------------\n",
      "0.6825396976062942\n",
      "Metal Content of Consumer Products Tested by the NYC Health Department\n",
      "Left Columns: [[('learningData', 6)]]\n",
      "Right Columns: [[('0', 8)]]\n",
      "-------------------\n",
      "0.6790123505932119\n",
      "Bureau of Fire Prevention - Inspections\n",
      "Left Columns: [[('learningData', 6)]]\n",
      "Right Columns: [[('0', 5)]]\n",
      "-------------------\n",
      "0.6499118168349937\n",
      "Historical IBRD Balance Sheets Data\n",
      "Left Columns: [[('learningData', 6)]]\n",
      "Right Columns: [[('0', 5)]]\n",
      "-------------------\n"
     ]
    }
   ],
   "source": [
    "start = time.time()\n",
    "results = cursor.get_next_page()\n",
    "print(\"Duration: %.4f seconds\" % (time.time() - start))\n",
    "print_results(results)"
   ]
  },
  {
   "cell_type": "markdown",
   "metadata": {},
   "source": [
    "**Result:** Unfortunately, it doesn't look like there is any useful dataset in our DataMart to solve this problem. The datasets returned by the search do not involve any consumer complaint data -- only other types of complaint that semantically do not make sense. Which does not mean the augmentation would not improve the performance ..."
   ]
  },
  {
   "cell_type": "markdown",
   "metadata": {},
   "source": [
    "### DA_fifa2018_manofmatch"
   ]
  },
  {
   "cell_type": "markdown",
   "metadata": {},
   "source": [
    "Loading the supplied data."
   ]
  },
  {
   "cell_type": "code",
   "execution_count": 4,
   "metadata": {},
   "outputs": [],
   "source": [
    "fifa2018_manofmatch_file = home_dir + 'DA_fifa2018_manofmatch/DA_fifa2018_manofmatch_dataset/datasetDoc.json'\n",
    "fifa2018_manofmatch = container.Dataset.load('file://' + fifa2018_manofmatch_file)"
   ]
  },
  {
   "cell_type": "code",
   "execution_count": 5,
   "metadata": {},
   "outputs": [
    {
     "data": {
      "text/html": [
       "<div>\n",
       "<style scoped>\n",
       "    .dataframe tbody tr th:only-of-type {\n",
       "        vertical-align: middle;\n",
       "    }\n",
       "\n",
       "    .dataframe tbody tr th {\n",
       "        vertical-align: top;\n",
       "    }\n",
       "\n",
       "    .dataframe thead th {\n",
       "        text-align: right;\n",
       "    }\n",
       "</style>\n",
       "<table border=\"1\" class=\"dataframe\">\n",
       "  <thead>\n",
       "    <tr style=\"text-align: right;\">\n",
       "      <th></th>\n",
       "      <th>d3mIndex</th>\n",
       "      <th>GameID</th>\n",
       "      <th>Date</th>\n",
       "      <th>Team</th>\n",
       "      <th>Opponent</th>\n",
       "      <th>Ball Possession %</th>\n",
       "      <th>Off-Target</th>\n",
       "      <th>Blocked</th>\n",
       "      <th>Offsides</th>\n",
       "      <th>Saves</th>\n",
       "      <th>Pass Accuracy %</th>\n",
       "      <th>Passes</th>\n",
       "      <th>Distance Covered (Kms)</th>\n",
       "      <th>Yellow &amp; Red</th>\n",
       "      <th>Man of the Match</th>\n",
       "      <th>1st Goal</th>\n",
       "      <th>Round</th>\n",
       "      <th>PSO</th>\n",
       "      <th>Goals in PSO</th>\n",
       "      <th>Own goals</th>\n",
       "    </tr>\n",
       "  </thead>\n",
       "  <tbody>\n",
       "    <tr>\n",
       "      <th>0</th>\n",
       "      <td>0</td>\n",
       "      <td>55</td>\n",
       "      <td>23-06-2018</td>\n",
       "      <td>Mexico</td>\n",
       "      <td>Korea Republic</td>\n",
       "      <td>59</td>\n",
       "      <td>6</td>\n",
       "      <td>2</td>\n",
       "      <td>0</td>\n",
       "      <td>5</td>\n",
       "      <td>89</td>\n",
       "      <td>485</td>\n",
       "      <td>97</td>\n",
       "      <td>0</td>\n",
       "      <td>1</td>\n",
       "      <td>26.0</td>\n",
       "      <td>Group Stage</td>\n",
       "      <td>No</td>\n",
       "      <td>0</td>\n",
       "      <td></td>\n",
       "    </tr>\n",
       "    <tr>\n",
       "      <th>1</th>\n",
       "      <td>1</td>\n",
       "      <td>40</td>\n",
       "      <td>21-06-2018</td>\n",
       "      <td>Denmark</td>\n",
       "      <td>Australia</td>\n",
       "      <td>49</td>\n",
       "      <td>5</td>\n",
       "      <td>0</td>\n",
       "      <td>1</td>\n",
       "      <td>4</td>\n",
       "      <td>88</td>\n",
       "      <td>458</td>\n",
       "      <td>112</td>\n",
       "      <td>0</td>\n",
       "      <td>1</td>\n",
       "      <td>7.0</td>\n",
       "      <td>Group Stage</td>\n",
       "      <td>No</td>\n",
       "      <td>0</td>\n",
       "      <td></td>\n",
       "    </tr>\n",
       "    <tr>\n",
       "      <th>2</th>\n",
       "      <td>2</td>\n",
       "      <td>19</td>\n",
       "      <td>17-06-2018</td>\n",
       "      <td>Mexico</td>\n",
       "      <td>Germany</td>\n",
       "      <td>40</td>\n",
       "      <td>6</td>\n",
       "      <td>2</td>\n",
       "      <td>2</td>\n",
       "      <td>9</td>\n",
       "      <td>82</td>\n",
       "      <td>281</td>\n",
       "      <td>106</td>\n",
       "      <td>0</td>\n",
       "      <td>0</td>\n",
       "      <td>35.0</td>\n",
       "      <td>Group Stage</td>\n",
       "      <td>No</td>\n",
       "      <td>0</td>\n",
       "      <td></td>\n",
       "    </tr>\n",
       "    <tr>\n",
       "      <th>3</th>\n",
       "      <td>3</td>\n",
       "      <td>31</td>\n",
       "      <td>19-06-2018</td>\n",
       "      <td>Senegal</td>\n",
       "      <td>Poland</td>\n",
       "      <td>43</td>\n",
       "      <td>4</td>\n",
       "      <td>2</td>\n",
       "      <td>3</td>\n",
       "      <td>3</td>\n",
       "      <td>81</td>\n",
       "      <td>328</td>\n",
       "      <td>107</td>\n",
       "      <td>0</td>\n",
       "      <td>1</td>\n",
       "      <td>60.0</td>\n",
       "      <td>Group Stage</td>\n",
       "      <td>No</td>\n",
       "      <td>0</td>\n",
       "      <td></td>\n",
       "    </tr>\n",
       "    <tr>\n",
       "      <th>4</th>\n",
       "      <td>4</td>\n",
       "      <td>98</td>\n",
       "      <td>30-06-2018</td>\n",
       "      <td>Uruguay</td>\n",
       "      <td>Portugal</td>\n",
       "      <td>39</td>\n",
       "      <td>2</td>\n",
       "      <td>1</td>\n",
       "      <td>0</td>\n",
       "      <td>4</td>\n",
       "      <td>69</td>\n",
       "      <td>269</td>\n",
       "      <td>106</td>\n",
       "      <td>0</td>\n",
       "      <td>1</td>\n",
       "      <td>7.0</td>\n",
       "      <td>Round of 16</td>\n",
       "      <td>No</td>\n",
       "      <td>0</td>\n",
       "      <td></td>\n",
       "    </tr>\n",
       "  </tbody>\n",
       "</table>\n",
       "</div>"
      ],
      "text/plain": [
       "  d3mIndex GameID        Date     Team        Opponent Ball Possession %  \\\n",
       "0        0     55  23-06-2018   Mexico  Korea Republic                59   \n",
       "1        1     40  21-06-2018  Denmark       Australia                49   \n",
       "2        2     19  17-06-2018   Mexico         Germany                40   \n",
       "3        3     31  19-06-2018  Senegal          Poland                43   \n",
       "4        4     98  30-06-2018  Uruguay        Portugal                39   \n",
       "\n",
       "  Off-Target Blocked Offsides Saves Pass Accuracy % Passes  \\\n",
       "0          6       2        0     5              89    485   \n",
       "1          5       0        1     4              88    458   \n",
       "2          6       2        2     9              82    281   \n",
       "3          4       2        3     3              81    328   \n",
       "4          2       1        0     4              69    269   \n",
       "\n",
       "  Distance Covered (Kms) Yellow & Red Man of the Match 1st Goal        Round  \\\n",
       "0                     97            0                1     26.0  Group Stage   \n",
       "1                    112            0                1      7.0  Group Stage   \n",
       "2                    106            0                0     35.0  Group Stage   \n",
       "3                    107            0                1     60.0  Group Stage   \n",
       "4                    106            0                1      7.0  Round of 16   \n",
       "\n",
       "  PSO Goals in PSO Own goals  \n",
       "0  No            0            \n",
       "1  No            0            \n",
       "2  No            0            \n",
       "3  No            0            \n",
       "4  No            0            "
      ]
     },
     "execution_count": 5,
     "metadata": {},
     "output_type": "execute_result"
    }
   ],
   "source": [
    "fifa2018_manofmatch['learningData'].head()"
   ]
  },
  {
   "cell_type": "markdown",
   "metadata": {},
   "source": [
    "Without keywords."
   ]
  },
  {
   "cell_type": "code",
   "execution_count": 8,
   "metadata": {},
   "outputs": [],
   "source": [
    "cursor = client.search_with_data(query=None, supplied_data=fifa2018_manofmatch)"
   ]
  },
  {
   "cell_type": "code",
   "execution_count": 9,
   "metadata": {
    "scrolled": true
   },
   "outputs": [
    {
     "name": "stdout",
     "output_type": "stream",
     "text": [
      "Duration: 376.7774 seconds\n",
      "\n",
      "-------------------\n",
      "1.0\n",
      "FIFA 2018 game statistics data\n",
      "Left Columns: [[('learningData', 13)]]\n",
      "Right Columns: [[('0', 8)]]\n",
      "-------------------\n",
      "1.0\n",
      "Housing New York Units by Building\n",
      "Left Columns: [[('learningData', 2)]]\n",
      "Right Columns: [[('0', 19)]]\n",
      "-------------------\n",
      "1.0\n",
      "Recognized Shop Healthy Stores\n",
      "Left Columns: [[('learningData', 2)]]\n",
      "Right Columns: [[('0', 1)]]\n",
      "-------------------\n",
      "1.0\n",
      "Contractor / Sub Contractor Change Order Report\n",
      "Left Columns: [[('learningData', 2)]]\n",
      "Right Columns: [[('0', 10)]]\n",
      "-------------------\n",
      "1.0\n",
      "Cash Assistance Youth Engagement\n",
      "Left Columns: [[('learningData', 2)]]\n",
      "Right Columns: [[('0', 6)]]\n",
      "-------------------\n",
      "1.0\n",
      "City Clerk eLobbyist Data\n",
      "Left Columns: [[('learningData', 2)]]\n",
      "Right Columns: [[('0', 14)]]\n",
      "-------------------\n",
      "1.0\n",
      "2005 - 2011 Graduation Outcomes - Borough - ELL\n",
      "Left Columns: [[('learningData', 2)]]\n",
      "Right Columns: [[('0', 21)]]\n",
      "-------------------\n",
      "1.0\n",
      "Street Construction Permits - Stipulations (Historical)\n",
      "Left Columns: [[('learningData', 2)]]\n",
      "Right Columns: [[('0', 3)]]\n",
      "-------------------\n",
      "1.0\n",
      "Low Income Housing Tax Credits Awarded by HPD: Project-Level (9% Awards)\n",
      "Left Columns: [[('learningData', 2)]]\n",
      "Right Columns: [[('0', 13)]]\n",
      "-------------------\n",
      "1.0\n",
      "Corporate Procurement Contract Awards\n",
      "Left Columns: [[('learningData', 2)]]\n",
      "Right Columns: [[('0', 0)]]\n",
      "-------------------\n",
      "1.0\n",
      "Parking Violations Issued - Fiscal Year 2017\n",
      "Left Columns: [[('learningData', 2)]]\n",
      "Right Columns: [[('0', 23)]]\n",
      "-------------------\n",
      "1.0\n",
      "Parking Violations Issued - Fiscal Year 2015\n",
      "Left Columns: [[('learningData', 2)]]\n",
      "Right Columns: [[('0', 17)]]\n",
      "-------------------\n",
      "1.0\n",
      "2014 NYC Open Data Plan\n",
      "Left Columns: [[('learningData', 2)]]\n",
      "Right Columns: [[('0', 4)]]\n",
      "-------------------\n",
      "1.0\n",
      "Charges\n",
      "Left Columns: [[('learningData', 2)]]\n",
      "Right Columns: [[('0', 3)]]\n",
      "-------------------\n",
      "1.0\n",
      "SCA Disqualified Firms\n",
      "Left Columns: [[('learningData', 2)]]\n",
      "Right Columns: [[('0', 2)]]\n",
      "-------------------\n",
      "1.0\n",
      "DEP - Cryptosporidium And Giardia Data Set\n",
      "Left Columns: [[('learningData', 2)]]\n",
      "Right Columns: [[('0', 1)]]\n",
      "-------------------\n",
      "1.0\n",
      "OATH Trials Division Case Status\n",
      "Left Columns: [[('learningData', 2)]]\n",
      "Right Columns: [[('0', 6)]]\n",
      "-------------------\n",
      "1.0\n",
      "Appeals Closed In 2016\n",
      "Left Columns: [[('learningData', 2)]]\n",
      "Right Columns: [[('0', 8)]]\n",
      "-------------------\n",
      "1.0\n",
      "FY17 BID Trends Report Data\n",
      "Left Columns: [[('learningData', 2)]]\n",
      "Right Columns: [[('0', 46)]]\n",
      "-------------------\n",
      "1.0\n",
      "Swim for Life\n",
      "Left Columns: [[('learningData', 2)]]\n",
      "Right Columns: [[('0', 11)]]\n",
      "-------------------\n"
     ]
    }
   ],
   "source": [
    "start = time.time()\n",
    "results = cursor.get_next_page()\n",
    "print(\"Duration: %.4f seconds\" % (time.time() - start))\n",
    "print_results(results)"
   ]
  },
  {
   "cell_type": "markdown",
   "metadata": {},
   "source": [
    "With keywords."
   ]
  },
  {
   "cell_type": "code",
   "execution_count": 12,
   "metadata": {},
   "outputs": [],
   "source": [
    "query = datamart.DatamartQuery(\n",
    "    keywords=['soccer', 'FIFA'],  # from problemDoc.json\n",
    "    variables=[]\n",
    ")\n",
    "cursor = client.search_with_data(query=query, supplied_data=fifa2018_manofmatch)"
   ]
  },
  {
   "cell_type": "code",
   "execution_count": 13,
   "metadata": {
    "scrolled": true
   },
   "outputs": [
    {
     "name": "stdout",
     "output_type": "stream",
     "text": [
      "Duration: 6.4550 seconds\n",
      "\n",
      "-------------------\n",
      "1.0\n",
      "FIFA 2018 game statistics data\n",
      "Left Columns: [[('learningData', 13)]]\n",
      "Right Columns: [[('0', 8)]]\n",
      "-------------------\n",
      "0.9827586206896551\n",
      "FIFA 2018 game statistics data\n",
      "Left Columns: [[('learningData', 1)]]\n",
      "Right Columns: [[('0', 0)]]\n",
      "-------------------\n",
      "0.5681818181818182\n",
      "FIFA 2018 game statistics data\n",
      "Left Columns: [[('learningData', 6)]]\n",
      "Right Columns: [[('0', 3)]]\n",
      "-------------------\n"
     ]
    }
   ],
   "source": [
    "start = time.time()\n",
    "results = cursor.get_next_page()\n",
    "print(\"Duration: %.4f seconds\" % (time.time() - start))\n",
    "print_results(results)"
   ]
  },
  {
   "cell_type": "markdown",
   "metadata": {},
   "source": [
    "**Result:** If we use the exact keywords that MIT-LL provide, we will find a lot of unrelated data. This is because one of the keywords is 'FIFA 2018', and that will match any dataset that mentions '2018' in title/description. Same thing for 'match data': anything that matchs 'data' will be included. Note, however, that the expected dataset is the n. 1 in the ranking, but not with the correct attribute.\n",
    "\n",
    "If we only use 'FIFA', we can find the right dataset. The potentially correct join is the second one (with `GameID` column). The first one, with `Yellow & Red` column, is not the expected join."
   ]
  },
  {
   "cell_type": "markdown",
   "metadata": {},
   "source": [
    "### DA_global_terrorism"
   ]
  },
  {
   "cell_type": "code",
   "execution_count": null,
   "metadata": {},
   "outputs": [],
   "source": [
    "global_terrorism_file = home_dir + 'DA_global_terrorism/DA_global_terrorism_dataset/datasetDoc.json'\n",
    "global_terrorism = container.Dataset.load('file://' + global_terrorism_file)"
   ]
  },
  {
   "cell_type": "code",
   "execution_count": null,
   "metadata": {},
   "outputs": [],
   "source": [
    "global_terrorism['learningData'].head()"
   ]
  },
  {
   "cell_type": "markdown",
   "metadata": {},
   "source": [
    "Without keywords."
   ]
  },
  {
   "cell_type": "code",
   "execution_count": null,
   "metadata": {},
   "outputs": [],
   "source": [
    "cursor = client.search_with_data(query=None, supplied_data=global_terrorism)"
   ]
  },
  {
   "cell_type": "code",
   "execution_count": null,
   "metadata": {
    "scrolled": true
   },
   "outputs": [],
   "source": [
    "start = time.time()\n",
    "results = cursor.get_next_page()\n",
    "print(\"Duration: %.4f seconds\" % (time.time() - start))\n",
    "print_results(results)"
   ]
  },
  {
   "cell_type": "markdown",
   "metadata": {},
   "source": [
    "With keywords."
   ]
  },
  {
   "cell_type": "code",
   "execution_count": null,
   "metadata": {},
   "outputs": [],
   "source": [
    "query = datamart.DatamartQuery(\n",
    "    keywords=['global terrorism', 'terrorist events'],  # from problemDoc.json\n",
    "    variables=[]\n",
    ")\n",
    "cursor = client.search_with_data(query=query, supplied_data=global_terrorism)"
   ]
  },
  {
   "cell_type": "code",
   "execution_count": null,
   "metadata": {
    "scrolled": true
   },
   "outputs": [],
   "source": [
    "start = time.time()\n",
    "results = cursor.get_next_page()\n",
    "print(\"Duration: %.4f seconds\" % (time.time() - start))\n",
    "print_results(results)"
   ]
  },
  {
   "cell_type": "markdown",
   "metadata": {},
   "source": [
    "### DA_housing_burden"
   ]
  },
  {
   "cell_type": "code",
   "execution_count": null,
   "metadata": {},
   "outputs": [],
   "source": [
    "housing_burden_file = home_dir + 'DA_housing_burden/DA_housing_burden_dataset/datasetDoc.json'\n",
    "housing_burden = container.Dataset.load('file://' + housing_burden_file)"
   ]
  },
  {
   "cell_type": "code",
   "execution_count": null,
   "metadata": {},
   "outputs": [],
   "source": [
    "housing_burden['learningData'].head()"
   ]
  },
  {
   "cell_type": "markdown",
   "metadata": {},
   "source": [
    "Without keywords."
   ]
  },
  {
   "cell_type": "code",
   "execution_count": null,
   "metadata": {},
   "outputs": [],
   "source": [
    "cursor = client.search_with_data(query=None, supplied_data=housing_burden)"
   ]
  },
  {
   "cell_type": "code",
   "execution_count": null,
   "metadata": {
    "scrolled": true
   },
   "outputs": [],
   "source": [
    "start = time.time()\n",
    "results = cursor.get_next_page()\n",
    "print(\"Duration: %.4f seconds\" % (time.time() - start))\n",
    "print_results(results)"
   ]
  },
  {
   "cell_type": "markdown",
   "metadata": {},
   "source": [
    "With keywords."
   ]
  },
  {
   "cell_type": "code",
   "execution_count": null,
   "metadata": {},
   "outputs": [],
   "source": [
    "query = datamart.DatamartQuery(\n",
    "    keywords=['American Community Survey', 'ACS',\n",
    "              'Public Use Microdata Sample', 'PUMS'],  # from problemDoc.json\n",
    "    variables=[]\n",
    ")\n",
    "cursor = client.search_with_data(query=query, supplied_data=housing_burden)"
   ]
  },
  {
   "cell_type": "code",
   "execution_count": null,
   "metadata": {
    "scrolled": true
   },
   "outputs": [],
   "source": [
    "start = time.time()\n",
    "results = cursor.get_next_page()\n",
    "print(\"Duration: %.4f seconds\" % (time.time() - start))\n",
    "print_results(results)"
   ]
  },
  {
   "cell_type": "markdown",
   "metadata": {},
   "source": [
    "### DA_medical_malpractice"
   ]
  },
  {
   "cell_type": "code",
   "execution_count": null,
   "metadata": {},
   "outputs": [],
   "source": [
    "medical_malpractice_file = home_dir + 'DA_medical_malpractice/DA_medical_malpractice_dataset/datasetDoc.json'\n",
    "medical_malpractice = container.Dataset.load('file://' + medical_malpractice_file)"
   ]
  },
  {
   "cell_type": "code",
   "execution_count": null,
   "metadata": {},
   "outputs": [],
   "source": [
    "medical_malpractice['learningData'].head()"
   ]
  },
  {
   "cell_type": "markdown",
   "metadata": {},
   "source": [
    "Without keywords."
   ]
  },
  {
   "cell_type": "code",
   "execution_count": null,
   "metadata": {},
   "outputs": [],
   "source": [
    "cursor = client.search_with_data(query=None, supplied_data=medical_malpractice)"
   ]
  },
  {
   "cell_type": "code",
   "execution_count": null,
   "metadata": {
    "scrolled": true
   },
   "outputs": [],
   "source": [
    "start = time.time()\n",
    "results = cursor.get_next_page()\n",
    "print(\"Duration: %.4f seconds\" % (time.time() - start))\n",
    "print_results(results)"
   ]
  },
  {
   "cell_type": "markdown",
   "metadata": {},
   "source": [
    "With keywords."
   ]
  },
  {
   "cell_type": "code",
   "execution_count": null,
   "metadata": {},
   "outputs": [],
   "source": [
    "query = datamart.DatamartQuery(\n",
    "    keywords=['practitioner', 'clinical', 'malpractice', 'practitioner data bank'],  # from problemDoc.json\n",
    "    variables=[]\n",
    ")\n",
    "cursor = client.search_with_data(query=query, supplied_data=medical_malpractice)"
   ]
  },
  {
   "cell_type": "code",
   "execution_count": null,
   "metadata": {
    "scrolled": true
   },
   "outputs": [],
   "source": [
    "start = time.time()\n",
    "results = cursor.get_next_page()\n",
    "print(\"Duration: %.4f seconds\" % (time.time() - start))\n",
    "print_results(results)"
   ]
  },
  {
   "cell_type": "markdown",
   "metadata": {},
   "source": [
    "### DA_ny_taxi_demand"
   ]
  },
  {
   "cell_type": "code",
   "execution_count": 14,
   "metadata": {},
   "outputs": [],
   "source": [
    "ny_taxi_demand_file = home_dir + 'DA_ny_taxi_demand/DA_ny_taxi_demand_dataset/datasetDoc.json'\n",
    "ny_taxi_demand = container.Dataset.load('file://' + ny_taxi_demand_file)"
   ]
  },
  {
   "cell_type": "code",
   "execution_count": 15,
   "metadata": {},
   "outputs": [
    {
     "data": {
      "text/html": [
       "<div>\n",
       "<style scoped>\n",
       "    .dataframe tbody tr th:only-of-type {\n",
       "        vertical-align: middle;\n",
       "    }\n",
       "\n",
       "    .dataframe tbody tr th {\n",
       "        vertical-align: top;\n",
       "    }\n",
       "\n",
       "    .dataframe thead th {\n",
       "        text-align: right;\n",
       "    }\n",
       "</style>\n",
       "<table border=\"1\" class=\"dataframe\">\n",
       "  <thead>\n",
       "    <tr style=\"text-align: right;\">\n",
       "      <th></th>\n",
       "      <th>d3mIndex</th>\n",
       "      <th>tpep_pickup_datetime</th>\n",
       "      <th>num_pickups</th>\n",
       "    </tr>\n",
       "  </thead>\n",
       "  <tbody>\n",
       "    <tr>\n",
       "      <th>0</th>\n",
       "      <td>0</td>\n",
       "      <td>2018-04-19 22:00:00</td>\n",
       "      <td>731</td>\n",
       "    </tr>\n",
       "    <tr>\n",
       "      <th>1</th>\n",
       "      <td>1</td>\n",
       "      <td>2018-06-30 20:00:00</td>\n",
       "      <td>183</td>\n",
       "    </tr>\n",
       "    <tr>\n",
       "      <th>2</th>\n",
       "      <td>2</td>\n",
       "      <td>2018-06-02 10:00:00</td>\n",
       "      <td>384</td>\n",
       "    </tr>\n",
       "    <tr>\n",
       "      <th>3</th>\n",
       "      <td>3</td>\n",
       "      <td>2018-04-17 13:00:00</td>\n",
       "      <td>648</td>\n",
       "    </tr>\n",
       "    <tr>\n",
       "      <th>4</th>\n",
       "      <td>4</td>\n",
       "      <td>2018-01-04 01:00:00</td>\n",
       "      <td>3</td>\n",
       "    </tr>\n",
       "  </tbody>\n",
       "</table>\n",
       "</div>"
      ],
      "text/plain": [
       "  d3mIndex tpep_pickup_datetime num_pickups\n",
       "0        0  2018-04-19 22:00:00         731\n",
       "1        1  2018-06-30 20:00:00         183\n",
       "2        2  2018-06-02 10:00:00         384\n",
       "3        3  2018-04-17 13:00:00         648\n",
       "4        4  2018-01-04 01:00:00           3"
      ]
     },
     "execution_count": 15,
     "metadata": {},
     "output_type": "execute_result"
    }
   ],
   "source": [
    "ny_taxi_demand['learningData'].head()"
   ]
  },
  {
   "cell_type": "markdown",
   "metadata": {},
   "source": [
    "Without keywords."
   ]
  },
  {
   "cell_type": "code",
   "execution_count": 16,
   "metadata": {},
   "outputs": [],
   "source": [
    "cursor = client.search_with_data(query=None, supplied_data=ny_taxi_demand)"
   ]
  },
  {
   "cell_type": "code",
   "execution_count": 17,
   "metadata": {
    "scrolled": true
   },
   "outputs": [
    {
     "name": "stdout",
     "output_type": "stream",
     "text": [
      "Duration: 107.2252 seconds\n",
      "\n",
      "-------------------\n",
      "1.0\n",
      "Housing New York Units by Building\n",
      "Left Columns: [[('learningData', 1)]]\n",
      "Right Columns: [[('0', 19)]]\n",
      "-------------------\n",
      "1.0\n",
      "Recognized Shop Healthy Stores\n",
      "Left Columns: [[('learningData', 1)]]\n",
      "Right Columns: [[('0', 1)]]\n",
      "-------------------\n",
      "1.0\n",
      "Bureau of Fire Prevention - Certificates of Fitness\n",
      "Left Columns: [[('learningData', 1)]]\n",
      "Right Columns: [[('0', 4)]]\n",
      "-------------------\n",
      "1.0\n",
      "Contractor / Sub Contractor Change Order Report\n",
      "Left Columns: [[('learningData', 1)]]\n",
      "Right Columns: [[('0', 10)]]\n",
      "-------------------\n",
      "1.0\n",
      "Cash Assistance Youth Engagement\n",
      "Left Columns: [[('learningData', 1)]]\n",
      "Right Columns: [[('0', 6)]]\n",
      "-------------------\n",
      "1.0\n",
      "Appeals Closed In 2017\n",
      "Left Columns: [[('learningData', 1)]]\n",
      "Right Columns: [[('0', 8)]]\n",
      "-------------------\n",
      "1.0\n",
      "City Clerk eLobbyist Data\n",
      "Left Columns: [[('learningData', 1)]]\n",
      "Right Columns: [[('0', 14)]]\n",
      "-------------------\n",
      "1.0\n",
      "2005 - 2011 Graduation Outcomes - Borough - ELL\n",
      "Left Columns: [[('learningData', 1)]]\n",
      "Right Columns: [[('0', 21)]]\n",
      "-------------------\n",
      "1.0\n",
      "Street Construction Permits - Stipulations (Historical)\n",
      "Left Columns: [[('learningData', 1)]]\n",
      "Right Columns: [[('0', 3)]]\n",
      "-------------------\n",
      "1.0\n",
      "Low Income Housing Tax Credits Awarded by HPD: Project-Level (9% Awards)\n",
      "Left Columns: [[('learningData', 1)]]\n",
      "Right Columns: [[('0', 13)]]\n",
      "-------------------\n",
      "1.0\n",
      "Corporate Procurement Contract Awards\n",
      "Left Columns: [[('learningData', 1)]]\n",
      "Right Columns: [[('0', 0)]]\n",
      "-------------------\n",
      "1.0\n",
      "Parking Violations Issued - Fiscal Year 2017\n",
      "Left Columns: [[('learningData', 1)]]\n",
      "Right Columns: [[('0', 23)]]\n",
      "-------------------\n",
      "1.0\n",
      "Parking Violations Issued - Fiscal Year 2015\n",
      "Left Columns: [[('learningData', 1)]]\n",
      "Right Columns: [[('0', 17)]]\n",
      "-------------------\n",
      "1.0\n",
      "2014 NYC Open Data Plan\n",
      "Left Columns: [[('learningData', 1)]]\n",
      "Right Columns: [[('0', 4)]]\n",
      "-------------------\n",
      "1.0\n",
      "Charges\n",
      "Left Columns: [[('learningData', 1)]]\n",
      "Right Columns: [[('0', 3)]]\n",
      "-------------------\n",
      "1.0\n",
      "SCA Disqualified Firms\n",
      "Left Columns: [[('learningData', 1)]]\n",
      "Right Columns: [[('0', 2)]]\n",
      "-------------------\n",
      "1.0\n",
      "DEP - Cryptosporidium And Giardia Data Set\n",
      "Left Columns: [[('learningData', 1)]]\n",
      "Right Columns: [[('0', 1)]]\n",
      "-------------------\n",
      "1.0\n",
      "Appeals Closed In 2016\n",
      "Left Columns: [[('learningData', 1)]]\n",
      "Right Columns: [[('0', 8)]]\n",
      "-------------------\n",
      "1.0\n",
      "FY17 BID Trends Report Data\n",
      "Left Columns: [[('learningData', 1)]]\n",
      "Right Columns: [[('0', 46)]]\n",
      "-------------------\n",
      "1.0\n",
      "Swim for Life\n",
      "Left Columns: [[('learningData', 1)]]\n",
      "Right Columns: [[('0', 11)]]\n",
      "-------------------\n"
     ]
    }
   ],
   "source": [
    "start = time.time()\n",
    "results = cursor.get_next_page()\n",
    "print(\"Duration: %.4f seconds\" % (time.time() - start))\n",
    "print_results(results)"
   ]
  },
  {
   "cell_type": "markdown",
   "metadata": {},
   "source": [
    "With keywords."
   ]
  },
  {
   "cell_type": "code",
   "execution_count": 22,
   "metadata": {},
   "outputs": [],
   "source": [
    "query = datamart.DatamartQuery(\n",
    "    keywords=['weather conditions', 'new york', 'hourly', 'LaGuardia airport'],  # from problemDoc.json\n",
    "    variables=[]\n",
    ")\n",
    "cursor = client.search_with_data(query=query, supplied_data=ny_taxi_demand)"
   ]
  },
  {
   "cell_type": "code",
   "execution_count": 23,
   "metadata": {
    "scrolled": true
   },
   "outputs": [
    {
     "name": "stdout",
     "output_type": "stream",
     "text": [
      "Duration: 29.3918 seconds\n",
      "\n",
      "-------------------\n",
      "1.0\n",
      "Housing New York Units by Building\n",
      "Left Columns: [[('learningData', 1)]]\n",
      "Right Columns: [[('0', 19)]]\n",
      "-------------------\n",
      "1.0\n",
      "Low Income Housing Tax Credits Awarded by HPD: Project-Level (9% Awards)\n",
      "Left Columns: [[('learningData', 1)]]\n",
      "Right Columns: [[('0', 13)]]\n",
      "-------------------\n",
      "1.0\n",
      "DOHMH New York City Restaurant Inspection Results\n",
      "Left Columns: [[('learningData', 1)]]\n",
      "Right Columns: [[('0', 8)]]\n",
      "-------------------\n",
      "1.0\n",
      "NYC Wi-Fi Hotspot Locations\n",
      "Left Columns: [[('learningData', 1)]]\n",
      "Right Columns: [[('0', 15)]]\n",
      "-------------------\n",
      "1.0\n",
      "Housing New York Units by Project\n",
      "Left Columns: [[('learningData', 1)]]\n",
      "Right Columns: [[('0', 3)]]\n",
      "-------------------\n",
      "1.0\n",
      "Low Income Housing Tax Credits Awarded by HPD: Project-Level (4% Awards)\n",
      "Left Columns: [[('learningData', 1)]]\n",
      "Right Columns: [[('0', 13)]]\n",
      "-------------------\n",
      "1.0\n",
      "Use of ARRA Stimulus Funds\n",
      "Left Columns: [[('learningData', 1)]]\n",
      "Right Columns: [[('0', 26)]]\n",
      "-------------------\n",
      "1.0\n",
      "Board of Standards and Appeals (BSA) Applications Status\n",
      "Left Columns: [[('learningData', 1)]]\n",
      "Right Columns: [[('0', 12)]]\n",
      "-------------------\n",
      "1.0\n",
      "Doing Business Search - People\n",
      "Left Columns: [[('learningData', 1)]]\n",
      "Right Columns: [[('0', 7)]]\n",
      "-------------------\n",
      "1.0\n",
      "Newyork Weather Data around Airport 2016-18\n",
      "Left Columns: [[('learningData', 1)]]\n",
      "Right Columns: [[('0', 0)]]\n",
      "-------------------\n",
      "1.0\n",
      "Legally Operating Businesses\n",
      "Left Columns: [[('learningData', 1)]]\n",
      "Right Columns: [[('0', 4)]]\n",
      "-------------------\n",
      "1.0\n",
      "CATS Permits\n",
      "Left Columns: [[('learningData', 1)]]\n",
      "Right Columns: [[('0', 18)]]\n",
      "-------------------\n",
      "1.0\n",
      "License Revocations, Suspensions, Surrenders and Reinstatements\n",
      "Left Columns: [[('learningData', 1)]]\n",
      "Right Columns: [[('0', 5)]]\n",
      "-------------------\n",
      "1.0\n",
      "2013 - 2014 School Quality Reports Results for High Schools\n",
      "Left Columns: [[('learningData', 1)]]\n",
      "Right Columns: [[('0', 3)]]\n",
      "-------------------\n",
      "1.0\n",
      "IFC Investment Services Projects\n",
      "Left Columns: [[('learningData', 1)]]\n",
      "Right Columns: [[('0', 16)]]\n",
      "-------------------\n",
      "1.0\n",
      "Multiple Dwelling Registrations\n",
      "Left Columns: [[('learningData', 1)]]\n",
      "Right Columns: [[('0', 15)]]\n",
      "-------------------\n",
      "1.0\n",
      "Housing Litigations\n",
      "Left Columns: [[('learningData', 1)]]\n",
      "Right Columns: [[('0', 9)]]\n",
      "-------------------\n",
      "1.0\n",
      "DOB Permit Issuance\n",
      "Left Columns: [[('learningData', 1)]]\n",
      "Right Columns: [[('0', 27)]]\n",
      "-------------------\n",
      "1.0\n",
      "TLC New Driver Application Status\n",
      "Left Columns: [[('learningData', 1)]]\n",
      "Right Columns: [[('0', 2)]]\n",
      "-------------------\n",
      "1.0\n",
      "2010 - 2016 School Safety Report\n",
      "Left Columns: [[('learningData', 1)]]\n",
      "Right Columns: [[('0', 8)]]\n",
      "-------------------\n"
     ]
    }
   ],
   "source": [
    "start = time.time()\n",
    "results = cursor.get_next_page()\n",
    "print(\"Duration: %.4f seconds\" % (time.time() - start))\n",
    "print_results(results)"
   ]
  },
  {
   "cell_type": "markdown",
   "metadata": {},
   "source": [
    "**Results:** The expected dataset is in the result set, but because the keyword score is currently not taken into account in the ranking, it does not rank higher. If we only use the keyword 'weather', we can see the expected dataset in the 1st position. See below."
   ]
  },
  {
   "cell_type": "code",
   "execution_count": 26,
   "metadata": {},
   "outputs": [],
   "source": [
    "query = datamart.DatamartQuery(\n",
    "    keywords=['weather'],  # from problemDoc.json\n",
    "    variables=[]\n",
    ")\n",
    "cursor = client.search_with_data(query=query, supplied_data=ny_taxi_demand)"
   ]
  },
  {
   "cell_type": "code",
   "execution_count": null,
   "metadata": {
    "scrolled": true
   },
   "outputs": [],
   "source": [
    "start = time.time()\n",
    "results = cursor.get_next_page()\n",
    "print(\"Duration: %.4f seconds\" % (time.time() - start))\n",
    "print_results(results)"
   ]
  },
  {
   "cell_type": "markdown",
   "metadata": {},
   "source": [
    "### DA_poverty_estimation"
   ]
  },
  {
   "cell_type": "code",
   "execution_count": null,
   "metadata": {},
   "outputs": [],
   "source": [
    "poverty_estimation_file = home_dir + 'DA_poverty_estimation/DA_poverty_estimation_dataset/datasetDoc.json'\n",
    "poverty_estimation = container.Dataset.load('file://' + poverty_estimation_file)"
   ]
  },
  {
   "cell_type": "code",
   "execution_count": null,
   "metadata": {},
   "outputs": [],
   "source": [
    "poverty_estimation['learningData'].head()"
   ]
  },
  {
   "cell_type": "markdown",
   "metadata": {},
   "source": [
    "Without keywords."
   ]
  },
  {
   "cell_type": "code",
   "execution_count": null,
   "metadata": {},
   "outputs": [],
   "source": [
    "cursor = client.search_with_data(query=None, supplied_data=poverty_estimation)"
   ]
  },
  {
   "cell_type": "code",
   "execution_count": null,
   "metadata": {
    "scrolled": true
   },
   "outputs": [],
   "source": [
    "start = time.time()\n",
    "results = cursor.get_next_page()\n",
    "print(\"Duration: %.4f seconds\" % (time.time() - start))\n",
    "print_results(results)"
   ]
  },
  {
   "cell_type": "markdown",
   "metadata": {},
   "source": [
    "With keywords."
   ]
  },
  {
   "cell_type": "code",
   "execution_count": null,
   "metadata": {},
   "outputs": [],
   "source": [
    "query = datamart.DatamartQuery(\n",
    "    keywords=['USDA', 'economic research service', 'ERS',\n",
    "              'county-level', 'socioeconomic indicators',\n",
    "              'poverty rate', 'education', 'population',\n",
    "              'unemployment'],  # from problemDoc.json\n",
    "    variables=[]\n",
    ")\n",
    "cursor = client.search_with_data(query=query, supplied_data=poverty_estimation)"
   ]
  },
  {
   "cell_type": "code",
   "execution_count": null,
   "metadata": {
    "scrolled": true
   },
   "outputs": [],
   "source": [
    "start = time.time()\n",
    "results = cursor.get_next_page()\n",
    "print(\"Duration: %.4f seconds\" % (time.time() - start))\n",
    "print_results(results)"
   ]
  }
 ],
 "metadata": {
  "kernelspec": {
   "display_name": "nyu-datamart-api",
   "language": "python",
   "name": "nyu-datamart-api"
  },
  "language_info": {
   "codemirror_mode": {
    "name": "ipython",
    "version": 3
   },
   "file_extension": ".py",
   "mimetype": "text/x-python",
   "name": "python",
   "nbconvert_exporter": "python",
   "pygments_lexer": "ipython3",
   "version": "3.6.5"
  }
 },
 "nbformat": 4,
 "nbformat_minor": 2
}
