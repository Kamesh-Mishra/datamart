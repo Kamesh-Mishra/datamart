{
 "cells": [
  {
   "cell_type": "markdown",
   "metadata": {},
   "source": [
    "# Python API for NYU's DataMart"
   ]
  },
  {
   "cell_type": "markdown",
   "metadata": {},
   "source": [
    "This notebook showcases how to use the Python API for the NYU's DataMart system, which implements the common DataMart interface (https://gitlab.com/datadrivendiscovery/datamart-api/blob/master/datamart.py). To install it: `pip install datamart_nyu`\n",
    "\n",
    "For the augmentation, we use the taxi demand example, available here: https://gitlab.datadrivendiscovery.org/d3m/datasets/tree/master/seed_datasets_data_augmentation/DA_ny_taxi_demand"
   ]
  },
  {
   "cell_type": "code",
   "execution_count": 1,
   "metadata": {},
   "outputs": [],
   "source": [
    "from d3m import container\n",
    "import datamart\n",
    "import datamart_nyu\n",
    "import datetime\n",
    "from pathlib import Path"
   ]
  },
  {
   "cell_type": "code",
   "execution_count": 2,
   "metadata": {},
   "outputs": [],
   "source": [
    "def print_results(results):\n",
    "    if not results:\n",
    "        return\n",
    "    for result in results:\n",
    "        print(result.score())\n",
    "        print(result.get_json_metadata()['metadata']['name'])\n",
    "        if (result.get_augment_hint()):\n",
    "            left_columns = []\n",
    "            for column_ in result.get_augment_hint().left_columns:\n",
    "                left_columns.append([])\n",
    "                for column in column_:\n",
    "                    left_columns[-1].append((column.resource_id, column.column_index))\n",
    "            print(\"Left Columns: %s\" % str(left_columns))\n",
    "            right_columns = []\n",
    "            for column_ in result.get_augment_hint().right_columns:\n",
    "                right_columns.append([])\n",
    "                for column in column_:\n",
    "                    right_columns[-1].append((column.resource_id, column.column_index))\n",
    "            print(\"Right Columns: %s\" % str(right_columns))\n",
    "        else:\n",
    "            print(result.id())\n",
    "        print(\"-------------------\")"
   ]
  },
  {
   "cell_type": "markdown",
   "metadata": {},
   "source": [
    "Loading the taxi data, i.e., our supplied data."
   ]
  },
  {
   "cell_type": "code",
   "execution_count": 3,
   "metadata": {},
   "outputs": [],
   "source": [
    "# You can change this accordingly\n",
    "ny_taxi_demand_file = str(Path.home()) + '/projects/d3m/datasets/seed_datasets_data_augmentation/' +\\\n",
    "                      'DA_ny_taxi_demand/DA_ny_taxi_demand_dataset/datasetDoc.json'\n",
    "ny_taxi_demand = container.Dataset.load('file://' + ny_taxi_demand_file)"
   ]
  },
  {
   "cell_type": "code",
   "execution_count": 4,
   "metadata": {},
   "outputs": [
    {
     "data": {
      "text/html": [
       "<div>\n",
       "<style scoped>\n",
       "    .dataframe tbody tr th:only-of-type {\n",
       "        vertical-align: middle;\n",
       "    }\n",
       "\n",
       "    .dataframe tbody tr th {\n",
       "        vertical-align: top;\n",
       "    }\n",
       "\n",
       "    .dataframe thead th {\n",
       "        text-align: right;\n",
       "    }\n",
       "</style>\n",
       "<table border=\"1\" class=\"dataframe\">\n",
       "  <thead>\n",
       "    <tr style=\"text-align: right;\">\n",
       "      <th></th>\n",
       "      <th>d3mIndex</th>\n",
       "      <th>tpep_pickup_datetime</th>\n",
       "      <th>num_pickups</th>\n",
       "    </tr>\n",
       "  </thead>\n",
       "  <tbody>\n",
       "    <tr>\n",
       "      <th>0</th>\n",
       "      <td>0</td>\n",
       "      <td>2018-04-19 22:00:00</td>\n",
       "      <td>731</td>\n",
       "    </tr>\n",
       "    <tr>\n",
       "      <th>1</th>\n",
       "      <td>1</td>\n",
       "      <td>2018-06-30 20:00:00</td>\n",
       "      <td>183</td>\n",
       "    </tr>\n",
       "    <tr>\n",
       "      <th>2</th>\n",
       "      <td>2</td>\n",
       "      <td>2018-06-02 10:00:00</td>\n",
       "      <td>384</td>\n",
       "    </tr>\n",
       "    <tr>\n",
       "      <th>3</th>\n",
       "      <td>3</td>\n",
       "      <td>2018-04-17 13:00:00</td>\n",
       "      <td>648</td>\n",
       "    </tr>\n",
       "    <tr>\n",
       "      <th>4</th>\n",
       "      <td>4</td>\n",
       "      <td>2018-01-04 01:00:00</td>\n",
       "      <td>3</td>\n",
       "    </tr>\n",
       "  </tbody>\n",
       "</table>\n",
       "</div>"
      ],
      "text/plain": [
       "  d3mIndex tpep_pickup_datetime num_pickups\n",
       "0        0  2018-04-19 22:00:00         731\n",
       "1        1  2018-06-30 20:00:00         183\n",
       "2        2  2018-06-02 10:00:00         384\n",
       "3        3  2018-04-17 13:00:00         648\n",
       "4        4  2018-01-04 01:00:00           3"
      ]
     },
     "execution_count": 4,
     "metadata": {},
     "output_type": "execute_result"
    }
   ],
   "source": [
    "ny_taxi_demand['learningData'].head()"
   ]
  },
  {
   "cell_type": "markdown",
   "metadata": {},
   "source": [
    "## Searching for Datasets"
   ]
  },
  {
   "cell_type": "markdown",
   "metadata": {},
   "source": [
    "Let's first instantiate our client:"
   ]
  },
  {
   "cell_type": "code",
   "execution_count": 5,
   "metadata": {},
   "outputs": [],
   "source": [
    "client = datamart_nyu.RESTDatamart('https://datamart.d3m.vida-nyu.org')"
   ]
  },
  {
   "cell_type": "markdown",
   "metadata": {},
   "source": [
    "### Search using keywords"
   ]
  },
  {
   "cell_type": "code",
   "execution_count": 6,
   "metadata": {},
   "outputs": [],
   "source": [
    "query = datamart.DatamartQuery(\n",
    "    keywords=['weather', 'new york'],  # keywords from problem definition\n",
    "    variables=[]\n",
    ")\n",
    "cursor = client.search(query=query)"
   ]
  },
  {
   "cell_type": "code",
   "execution_count": 7,
   "metadata": {},
   "outputs": [],
   "source": [
    "results = cursor.get_next_page()"
   ]
  },
  {
   "cell_type": "code",
   "execution_count": 8,
   "metadata": {},
   "outputs": [
    {
     "name": "stdout",
     "output_type": "stream",
     "text": [
      "23.321064\n",
      "Water Consumption In The New York City\n",
      "datamart.socrata.data-cityofnewyork-us.ia2d-e54m\n",
      "-------------------\n",
      "19.698915\n",
      "Local Law 50 New York State Food Purchasing FY15\n",
      "datamart.socrata.data-cityofnewyork-us.2rd2-9uwy\n",
      "-------------------\n",
      "15.952759\n",
      "Newyork Weather Data around Airport 2016-18\n",
      "datamart.url.a3943fd7892d5d219012f889327c6661\n",
      "-------------------\n",
      "14.76213\n",
      "SNAP Center Wait Time\n",
      "datamart.socrata.data-cityofnewyork-us.gqk4-hny9\n",
      "-------------------\n",
      "14.197802\n",
      "NYC Women's Resource Network Database\n",
      "datamart.socrata.data-cityofnewyork-us.pqg4-dm6b\n",
      "-------------------\n",
      "12.2976055\n",
      "NYC Weather Data 2010-2018\n",
      "datamart.upload.a031bc4968cb4838967e4709e63a0ddc\n",
      "-------------------\n",
      "12.071367\n",
      "New York City Council Discretionary Funding\n",
      "datamart.socrata.data-cityofnewyork-us.4d7f-74pe\n",
      "-------------------\n",
      "11.9154415\n",
      "NYC Hourly Weather Data 2010-2018\n",
      "datamart.upload.469f627ada7349f285ad22d3028bc38d\n",
      "-------------------\n",
      "11.573822\n",
      "Housing New York Units by Project\n",
      "datamart.socrata.data-cityofnewyork-us.hq68-rnsi\n",
      "-------------------\n",
      "11.423144\n",
      "Housing New York Units by Building\n",
      "datamart.socrata.data-cityofnewyork-us.hg8x-zxpr\n",
      "-------------------\n",
      "11.313112\n",
      "New York City Council Discretionary Funding (2013)\n",
      "datamart.socrata.data-cityofnewyork-us.q2ni-ztsb\n",
      "-------------------\n",
      "11.24337\n",
      "New York City Population By Neighborhood Tabulation Areas\n",
      "datamart.socrata.data-cityofnewyork-us.swpk-hqdp\n",
      "-------------------\n",
      "11.100941\n",
      "ny_lga_weather_16_17_18\n",
      "datamart.url.ce55ccdfd9a653a082795b7bf7bd88e6\n",
      "-------------------\n",
      "11.06954\n",
      "New York City Population By Community Districts\n",
      "datamart.socrata.data-cityofnewyork-us.xi7c-iiu2\n",
      "-------------------\n",
      "10.845763\n",
      "New York City Leading Causes of Death\n",
      "datamart.socrata.data-cityofnewyork-us.jb7j-dtam\n",
      "-------------------\n",
      "10.578562\n",
      "Directory Of New York City Police Pension Fund Contact Numbers\n",
      "datamart.socrata.data-cityofnewyork-us.i447-i5u3\n",
      "-------------------\n",
      "10.545822\n",
      "New York City Locations Providing Seasonal Flu Vaccinations\n",
      "datamart.socrata.data-cityofnewyork-us.w9ei-idxz\n",
      "-------------------\n",
      "10.418842\n",
      "New York City Seasonally Adjusted Employment\n",
      "datamart.socrata.data-cityofnewyork-us.5hjv-bjbv\n",
      "-------------------\n",
      "10.3523655\n",
      "NYC Independent Budget Office (IBO) Debt Service Since FY 2000\n",
      "datamart.socrata.data-cityofnewyork-us.6ggx-itps\n",
      "-------------------\n",
      "10.123442\n",
      "New York City Council Discretionary Funding (2009-2013)\n",
      "datamart.socrata.data-cityofnewyork-us.m3fi-rt3k\n",
      "-------------------\n"
     ]
    }
   ],
   "source": [
    "print_results(results)"
   ]
  },
  {
   "cell_type": "markdown",
   "metadata": {},
   "source": [
    "### Search using keywords and variables"
   ]
  },
  {
   "cell_type": "code",
   "execution_count": 9,
   "metadata": {},
   "outputs": [],
   "source": [
    "query = datamart.DatamartQuery(\n",
    "    keywords=['weather', 'new york'],\n",
    "    variables=[\n",
    "        datamart.TemporalVariable(start=datetime.datetime(2018,1,1), end=None)  # data after 2018-01-01\n",
    "    ]\n",
    ")\n",
    "cursor = client.search(query=query)"
   ]
  },
  {
   "cell_type": "code",
   "execution_count": 10,
   "metadata": {},
   "outputs": [],
   "source": [
    "results = cursor.get_next_page()"
   ]
  },
  {
   "cell_type": "code",
   "execution_count": 11,
   "metadata": {},
   "outputs": [
    {
     "name": "stdout",
     "output_type": "stream",
     "text": [
      "19.476715\n",
      "Newyork Weather Data around Airport 2016-18\n",
      "datamart.url.a3943fd7892d5d219012f889327c6661\n",
      "-------------------\n",
      "18.521584\n",
      "SNAP Center Wait Time\n",
      "datamart.socrata.data-cityofnewyork-us.gqk4-hny9\n",
      "-------------------\n",
      "15.943768\n",
      "NYC Weather Data 2010-2018\n",
      "datamart.upload.a031bc4968cb4838967e4709e63a0ddc\n",
      "-------------------\n",
      "15.439399\n",
      "NYC Hourly Weather Data 2010-2018\n",
      "datamart.upload.469f627ada7349f285ad22d3028bc38d\n",
      "-------------------\n",
      "15.182599\n",
      "Housing New York Units by Building\n",
      "datamart.socrata.data-cityofnewyork-us.hg8x-zxpr\n",
      "-------------------\n",
      "15.097779\n",
      "Housing New York Units by Project\n",
      "datamart.socrata.data-cityofnewyork-us.hq68-rnsi\n",
      "-------------------\n",
      "14.747103\n",
      "ny_lga_weather_16_17_18\n",
      "datamart.url.ce55ccdfd9a653a082795b7bf7bd88e6\n",
      "-------------------\n",
      "12.675784\n",
      "Low Income Housing Tax Credits Awarded by HPD: Project-Level (9% Awards)\n",
      "datamart.socrata.data-cityofnewyork-us.frre-6z6q\n",
      "-------------------\n",
      "11.922746\n",
      "DOHMH New York City Restaurant Inspection Results\n",
      "datamart.socrata.data-cityofnewyork-us.43nn-pn8j\n",
      "-------------------\n",
      "11.620393\n",
      "Low Income Housing Tax Credits Awarded by HPD: Project-Level (4% Awards)\n",
      "datamart.socrata.data-cityofnewyork-us.p8i7-ix2s\n",
      "-------------------\n",
      "11.392786\n",
      "Energy and Water Data Disclosure for Local Law 84 2014 (Data for Calendar Year 2013)\n",
      "datamart.socrata.data-cityofnewyork-us.rgfe-8y2z\n",
      "-------------------\n",
      "10.717091\n",
      "New York City Fleet Daily Service Report\n",
      "datamart.socrata.data-cityofnewyork-us.5rzx-3686\n",
      "-------------------\n",
      "10.672111\n",
      "2018 - 2019 School Locations\n",
      "datamart.socrata.data-cityofnewyork-us.9ck8-hj3u\n",
      "-------------------\n",
      "9.822033\n",
      "LinkNYC Usage Statistics\n",
      "datamart.socrata.data-cityofnewyork-us.69wu-b929\n",
      "-------------------\n",
      "9.189339\n",
      "TLC New Driver Application Status\n",
      "datamart.socrata.data-cityofnewyork-us.dpec-ucu7\n",
      "-------------------\n",
      "9.067957\n",
      "Use of ARRA Stimulus Funds\n",
      "datamart.socrata.data-cityofnewyork-us.ivix-m77e\n",
      "-------------------\n",
      "8.738124\n",
      "LinkNYC New Site Permit Applications\n",
      "datamart.socrata.data-cityofnewyork-us.xp25-gxux\n",
      "-------------------\n",
      "8.569118\n",
      "Traffic Volume Counts (2014-2018)\n",
      "datamart.socrata.data-cityofnewyork-us.ertz-hr4r\n",
      "-------------------\n",
      "8.195038\n",
      "Harbor Water Quality\n",
      "datamart.socrata.data-cityofnewyork-us.5uug-f49n\n",
      "-------------------\n",
      "7.925061\n",
      "Housing Maintenance Code Violations\n",
      "datamart.socrata.data-cityofnewyork-us.wvxf-dwi5\n",
      "-------------------\n"
     ]
    }
   ],
   "source": [
    "print_results(results)"
   ]
  },
  {
   "cell_type": "markdown",
   "metadata": {},
   "source": [
    "### Search using data"
   ]
  },
  {
   "cell_type": "code",
   "execution_count": 12,
   "metadata": {},
   "outputs": [],
   "source": [
    "cursor = client.search_with_data(query=None, supplied_data=ny_taxi_demand)"
   ]
  },
  {
   "cell_type": "code",
   "execution_count": 13,
   "metadata": {},
   "outputs": [],
   "source": [
    "results = cursor.get_next_page()"
   ]
  },
  {
   "cell_type": "code",
   "execution_count": 14,
   "metadata": {},
   "outputs": [
    {
     "name": "stdout",
     "output_type": "stream",
     "text": [
      "1.0\n",
      "Housing New York Units by Building\n",
      "Left Columns: [[('learningData', 1)]]\n",
      "Right Columns: [[('0', 19)]]\n",
      "-------------------\n",
      "1.0\n",
      "Recognized Shop Healthy Stores\n",
      "Left Columns: [[('learningData', 1)]]\n",
      "Right Columns: [[('0', 1)]]\n",
      "-------------------\n",
      "1.0\n",
      "Bureau of Fire Prevention - Certificates of Fitness\n",
      "Left Columns: [[('learningData', 1)]]\n",
      "Right Columns: [[('0', 4)]]\n",
      "-------------------\n",
      "1.0\n",
      "Contractor / Sub Contractor Change Order Report\n",
      "Left Columns: [[('learningData', 1)]]\n",
      "Right Columns: [[('0', 10)]]\n",
      "-------------------\n",
      "1.0\n",
      "Cash Assistance Youth Engagement\n",
      "Left Columns: [[('learningData', 1)]]\n",
      "Right Columns: [[('0', 6)]]\n",
      "-------------------\n",
      "1.0\n",
      "Appeals Closed In 2017\n",
      "Left Columns: [[('learningData', 1)]]\n",
      "Right Columns: [[('0', 8)]]\n",
      "-------------------\n",
      "1.0\n",
      "City Clerk eLobbyist Data\n",
      "Left Columns: [[('learningData', 1)]]\n",
      "Right Columns: [[('0', 14)]]\n",
      "-------------------\n",
      "1.0\n",
      "2005 - 2011 Graduation Outcomes - Borough - ELL\n",
      "Left Columns: [[('learningData', 1)]]\n",
      "Right Columns: [[('0', 21)]]\n",
      "-------------------\n",
      "1.0\n",
      "Street Construction Permits - Stipulations (Historical)\n",
      "Left Columns: [[('learningData', 1)]]\n",
      "Right Columns: [[('0', 3)]]\n",
      "-------------------\n",
      "1.0\n",
      "Low Income Housing Tax Credits Awarded by HPD: Project-Level (9% Awards)\n",
      "Left Columns: [[('learningData', 1)]]\n",
      "Right Columns: [[('0', 13)]]\n",
      "-------------------\n",
      "1.0\n",
      "Corporate Procurement Contract Awards\n",
      "Left Columns: [[('learningData', 1)]]\n",
      "Right Columns: [[('0', 0)]]\n",
      "-------------------\n",
      "1.0\n",
      "Parking Violations Issued - Fiscal Year 2017\n",
      "Left Columns: [[('learningData', 1)]]\n",
      "Right Columns: [[('0', 23)]]\n",
      "-------------------\n",
      "1.0\n",
      "Parking Violations Issued - Fiscal Year 2015\n",
      "Left Columns: [[('learningData', 1)]]\n",
      "Right Columns: [[('0', 17)]]\n",
      "-------------------\n",
      "1.0\n",
      "2014 NYC Open Data Plan\n",
      "Left Columns: [[('learningData', 1)]]\n",
      "Right Columns: [[('0', 4)]]\n",
      "-------------------\n",
      "1.0\n",
      "Charges\n",
      "Left Columns: [[('learningData', 1)]]\n",
      "Right Columns: [[('0', 3)]]\n",
      "-------------------\n",
      "1.0\n",
      "SCA Disqualified Firms\n",
      "Left Columns: [[('learningData', 1)]]\n",
      "Right Columns: [[('0', 2)]]\n",
      "-------------------\n",
      "1.0\n",
      "DEP - Cryptosporidium And Giardia Data Set\n",
      "Left Columns: [[('learningData', 1)]]\n",
      "Right Columns: [[('0', 1)]]\n",
      "-------------------\n",
      "1.0\n",
      "NYC Parks Events Listing – Event Listing\n",
      "Left Columns: [[('learningData', 1)]]\n",
      "Right Columns: [[('0', 2)]]\n",
      "-------------------\n",
      "1.0\n",
      "Appeals Closed In 2016\n",
      "Left Columns: [[('learningData', 1)]]\n",
      "Right Columns: [[('0', 8)]]\n",
      "-------------------\n",
      "1.0\n",
      "FY17 BID Trends Report Data\n",
      "Left Columns: [[('learningData', 1)]]\n",
      "Right Columns: [[('0', 46)]]\n",
      "-------------------\n"
     ]
    }
   ],
   "source": [
    "print_results(results)"
   ]
  },
  {
   "cell_type": "markdown",
   "metadata": {},
   "source": [
    "### Search using data and keywords"
   ]
  },
  {
   "cell_type": "code",
   "execution_count": 15,
   "metadata": {},
   "outputs": [],
   "source": [
    "query = datamart.DatamartQuery(\n",
    "    keywords=['weather'],\n",
    "    variables=[]\n",
    ")\n",
    "cursor = client.search_with_data(query=query, supplied_data=ny_taxi_demand)"
   ]
  },
  {
   "cell_type": "code",
   "execution_count": 16,
   "metadata": {},
   "outputs": [],
   "source": [
    "results = cursor.get_next_page()"
   ]
  },
  {
   "cell_type": "code",
   "execution_count": 17,
   "metadata": {
    "scrolled": true
   },
   "outputs": [
    {
     "name": "stdout",
     "output_type": "stream",
     "text": [
      "1.0\n",
      "Newyork Weather Data around Airport 2016-18\n",
      "Left Columns: [[('learningData', 1)]]\n",
      "Right Columns: [[('0', 0)]]\n",
      "-------------------\n",
      "1.0\n",
      "ny_lga_weather_16_17_18\n",
      "Left Columns: [[('learningData', 1)]]\n",
      "Right Columns: [[('0', 0)]]\n",
      "-------------------\n",
      "1.0\n",
      "Energy and Water Data Disclosure for Local Law 84 2014 (Data for Calendar Year 2013)\n",
      "Left Columns: [[('learningData', 1)]]\n",
      "Right Columns: [[('0', 5)]]\n",
      "-------------------\n",
      "0.7496448447369412\n",
      "Harbor Water Quality\n",
      "Left Columns: [[('learningData', 1)]]\n",
      "Right Columns: [[('0', 2)]]\n",
      "-------------------\n",
      "0.2787723914371843\n",
      "NYC Weather Data 2010-2018\n",
      "Left Columns: [[('learningData', 1)]]\n",
      "Right Columns: [[('0', 0)]]\n",
      "-------------------\n",
      "0.26797387168690484\n",
      "NYC Hourly Weather Data 2010-2018\n",
      "Left Columns: [[('learningData', 1)]]\n",
      "Right Columns: [[('0', 0)]]\n",
      "-------------------\n"
     ]
    }
   ],
   "source": [
    "print_results(results)"
   ]
  },
  {
   "cell_type": "markdown",
   "metadata": {},
   "source": [
    "### Search using data, keywords, and data columns"
   ]
  },
  {
   "cell_type": "code",
   "execution_count": 18,
   "metadata": {},
   "outputs": [],
   "source": [
    "query = datamart.DatamartQuery(\n",
    "    keywords=['weather'],\n",
    "    variables=[]\n",
    ")\n",
    "cursor = client.search_with_data_columns(\n",
    "    query=query,\n",
    "    supplied_data=ny_taxi_demand,\n",
    "    data_constraints=[\n",
    "        datamart.TabularVariable(\n",
    "            [datamart.DatasetColumn('learningData', 1)],  # date_time variable\n",
    "            datamart.ColumnRelationship.CONTAINS\n",
    "        )\n",
    "    ]\n",
    ")"
   ]
  },
  {
   "cell_type": "code",
   "execution_count": 19,
   "metadata": {},
   "outputs": [],
   "source": [
    "results = cursor.get_next_page()"
   ]
  },
  {
   "cell_type": "code",
   "execution_count": 20,
   "metadata": {
    "scrolled": true
   },
   "outputs": [
    {
     "name": "stdout",
     "output_type": "stream",
     "text": [
      "1.0\n",
      "Newyork Weather Data around Airport 2016-18\n",
      "Left Columns: [[('learningData', 1)]]\n",
      "Right Columns: [[('0', 0)]]\n",
      "-------------------\n",
      "1.0\n",
      "ny_lga_weather_16_17_18\n",
      "Left Columns: [[('learningData', 1)]]\n",
      "Right Columns: [[('0', 0)]]\n",
      "-------------------\n",
      "1.0\n",
      "Energy and Water Data Disclosure for Local Law 84 2014 (Data for Calendar Year 2013)\n",
      "Left Columns: [[('learningData', 1)]]\n",
      "Right Columns: [[('0', 5)]]\n",
      "-------------------\n",
      "0.7496448447369412\n",
      "Harbor Water Quality\n",
      "Left Columns: [[('learningData', 1)]]\n",
      "Right Columns: [[('0', 2)]]\n",
      "-------------------\n",
      "0.2787723914371843\n",
      "NYC Weather Data 2010-2018\n",
      "Left Columns: [[('learningData', 1)]]\n",
      "Right Columns: [[('0', 0)]]\n",
      "-------------------\n",
      "0.26797387168690484\n",
      "NYC Hourly Weather Data 2010-2018\n",
      "Left Columns: [[('learningData', 1)]]\n",
      "Right Columns: [[('0', 0)]]\n",
      "-------------------\n"
     ]
    }
   ],
   "source": [
    "print_results(results)"
   ]
  },
  {
   "cell_type": "markdown",
   "metadata": {},
   "source": [
    "## Downloading a dataset"
   ]
  },
  {
   "cell_type": "markdown",
   "metadata": {},
   "source": [
    "Now let's materialize one of the weather datasets, in case the user wants to take a look at the data before augmenting it (or so that the user can augment the data him/herself)."
   ]
  },
  {
   "cell_type": "code",
   "execution_count": 21,
   "metadata": {},
   "outputs": [],
   "source": [
    "ny_weather_data = results[0].download(supplied_data=None)"
   ]
  },
  {
   "cell_type": "code",
   "execution_count": 22,
   "metadata": {},
   "outputs": [
    {
     "data": {
      "text/html": [
       "<div>\n",
       "<style scoped>\n",
       "    .dataframe tbody tr th:only-of-type {\n",
       "        vertical-align: middle;\n",
       "    }\n",
       "\n",
       "    .dataframe tbody tr th {\n",
       "        vertical-align: top;\n",
       "    }\n",
       "\n",
       "    .dataframe thead th {\n",
       "        text-align: right;\n",
       "    }\n",
       "</style>\n",
       "<table border=\"1\" class=\"dataframe\">\n",
       "  <thead>\n",
       "    <tr style=\"text-align: right;\">\n",
       "      <th></th>\n",
       "      <th>DATE</th>\n",
       "      <th>HOURLYSKYCONDITIONS</th>\n",
       "      <th>HOURLYDRYBULBTEMPC</th>\n",
       "      <th>HOURLYRelativeHumidity</th>\n",
       "      <th>HOURLYWindSpeed</th>\n",
       "      <th>HOURLYWindDirection</th>\n",
       "      <th>HOURLYStationPressure</th>\n",
       "    </tr>\n",
       "  </thead>\n",
       "  <tbody>\n",
       "    <tr>\n",
       "      <th>0</th>\n",
       "      <td>2016-01-01 01:00:00</td>\n",
       "      <td>OVC:08 38</td>\n",
       "      <td>6.1</td>\n",
       "      <td>58.0</td>\n",
       "      <td>17</td>\n",
       "      <td>300</td>\n",
       "      <td>30.03</td>\n",
       "    </tr>\n",
       "    <tr>\n",
       "      <th>1</th>\n",
       "      <td>2016-01-01 02:00:00</td>\n",
       "      <td>OVC:08 38</td>\n",
       "      <td>6.1</td>\n",
       "      <td>56.0</td>\n",
       "      <td>16</td>\n",
       "      <td>320</td>\n",
       "      <td>30.03</td>\n",
       "    </tr>\n",
       "    <tr>\n",
       "      <th>2</th>\n",
       "      <td>2016-01-01 03:00:00</td>\n",
       "      <td>OVC:08 38</td>\n",
       "      <td>5.6</td>\n",
       "      <td>55.0</td>\n",
       "      <td>13</td>\n",
       "      <td>340</td>\n",
       "      <td>30.03</td>\n",
       "    </tr>\n",
       "    <tr>\n",
       "      <th>3</th>\n",
       "      <td>2016-01-01 04:00:00</td>\n",
       "      <td>OVC:08 36</td>\n",
       "      <td>5.6</td>\n",
       "      <td>55.0</td>\n",
       "      <td>13</td>\n",
       "      <td>300</td>\n",
       "      <td>30.03</td>\n",
       "    </tr>\n",
       "    <tr>\n",
       "      <th>4</th>\n",
       "      <td>2016-01-01 05:00:00</td>\n",
       "      <td>FEW:02 34 OVC:08 45</td>\n",
       "      <td>5.0</td>\n",
       "      <td>60.0</td>\n",
       "      <td>13</td>\n",
       "      <td>270</td>\n",
       "      <td>30.01</td>\n",
       "    </tr>\n",
       "  </tbody>\n",
       "</table>\n",
       "</div>"
      ],
      "text/plain": [
       "                  DATE  HOURLYSKYCONDITIONS HOURLYDRYBULBTEMPC  \\\n",
       "0  2016-01-01 01:00:00            OVC:08 38                6.1   \n",
       "1  2016-01-01 02:00:00            OVC:08 38                6.1   \n",
       "2  2016-01-01 03:00:00            OVC:08 38                5.6   \n",
       "3  2016-01-01 04:00:00            OVC:08 36                5.6   \n",
       "4  2016-01-01 05:00:00  FEW:02 34 OVC:08 45                5.0   \n",
       "\n",
       "  HOURLYRelativeHumidity HOURLYWindSpeed HOURLYWindDirection  \\\n",
       "0                   58.0              17                 300   \n",
       "1                   56.0              16                 320   \n",
       "2                   55.0              13                 340   \n",
       "3                   55.0              13                 300   \n",
       "4                   60.0              13                 270   \n",
       "\n",
       "  HOURLYStationPressure  \n",
       "0                 30.03  \n",
       "1                 30.03  \n",
       "2                 30.03  \n",
       "3                 30.03  \n",
       "4                 30.01  "
      ]
     },
     "execution_count": 22,
     "metadata": {},
     "output_type": "execute_result"
    }
   ],
   "source": [
    "ny_weather_data['learningData'].head()"
   ]
  },
  {
   "cell_type": "markdown",
   "metadata": {},
   "source": [
    "You can also give a dataset as input so that DataMart can try to return a dataset that joins well with it. Only portions of the DataMart dataset that join with the input data will be returned."
   ]
  },
  {
   "cell_type": "code",
   "execution_count": 23,
   "metadata": {},
   "outputs": [],
   "source": [
    "ny_weather_data = results[0].download(supplied_data=ny_taxi_demand)"
   ]
  },
  {
   "cell_type": "code",
   "execution_count": 24,
   "metadata": {},
   "outputs": [
    {
     "data": {
      "text/html": [
       "<div>\n",
       "<style scoped>\n",
       "    .dataframe tbody tr th:only-of-type {\n",
       "        vertical-align: middle;\n",
       "    }\n",
       "\n",
       "    .dataframe tbody tr th {\n",
       "        vertical-align: top;\n",
       "    }\n",
       "\n",
       "    .dataframe thead th {\n",
       "        text-align: right;\n",
       "    }\n",
       "</style>\n",
       "<table border=\"1\" class=\"dataframe\">\n",
       "  <thead>\n",
       "    <tr style=\"text-align: right;\">\n",
       "      <th></th>\n",
       "      <th>DATE</th>\n",
       "      <th>HOURLYSKYCONDITIONS</th>\n",
       "      <th>HOURLYDRYBULBTEMPC</th>\n",
       "      <th>HOURLYRelativeHumidity</th>\n",
       "      <th>HOURLYWindSpeed</th>\n",
       "      <th>HOURLYWindDirection</th>\n",
       "      <th>HOURLYStationPressure</th>\n",
       "    </tr>\n",
       "  </thead>\n",
       "  <tbody>\n",
       "    <tr>\n",
       "      <th>0</th>\n",
       "      <td>2018-04-19 22:00:00</td>\n",
       "      <td>FEW:02 42</td>\n",
       "      <td>5.0</td>\n",
       "      <td>53.0</td>\n",
       "      <td>16.0</td>\n",
       "      <td>310</td>\n",
       "      <td>29.97</td>\n",
       "    </tr>\n",
       "    <tr>\n",
       "      <th>1</th>\n",
       "      <td>2018-06-30 20:00:00</td>\n",
       "      <td>SCT:04 250</td>\n",
       "      <td>30.6</td>\n",
       "      <td>43.0</td>\n",
       "      <td>5.0</td>\n",
       "      <td>180</td>\n",
       "      <td>29.97</td>\n",
       "    </tr>\n",
       "    <tr>\n",
       "      <th>2</th>\n",
       "      <td>2018-06-02 10:00:00</td>\n",
       "      <td>FEW:02 40 FEW:02 150 SCT:04 200</td>\n",
       "      <td>28.3</td>\n",
       "      <td>61.0</td>\n",
       "      <td>6.0</td>\n",
       "      <td>070</td>\n",
       "      <td>29.7</td>\n",
       "    </tr>\n",
       "    <tr>\n",
       "      <th>3</th>\n",
       "      <td>2018-04-17 13:00:00</td>\n",
       "      <td>BKN:07 46 BKN:07 85</td>\n",
       "      <td>8.3</td>\n",
       "      <td>44.0</td>\n",
       "      <td>17.0</td>\n",
       "      <td>260</td>\n",
       "      <td>29.6</td>\n",
       "    </tr>\n",
       "    <tr>\n",
       "      <th>4</th>\n",
       "      <td>2018-01-04 01:00:00</td>\n",
       "      <td>OVC:08 32</td>\n",
       "      <td>-1.7</td>\n",
       "      <td>45.0</td>\n",
       "      <td>8.0</td>\n",
       "      <td>020</td>\n",
       "      <td>29.91</td>\n",
       "    </tr>\n",
       "  </tbody>\n",
       "</table>\n",
       "</div>"
      ],
      "text/plain": [
       "                  DATE              HOURLYSKYCONDITIONS HOURLYDRYBULBTEMPC  \\\n",
       "0  2018-04-19 22:00:00                        FEW:02 42                5.0   \n",
       "1  2018-06-30 20:00:00                       SCT:04 250               30.6   \n",
       "2  2018-06-02 10:00:00  FEW:02 40 FEW:02 150 SCT:04 200               28.3   \n",
       "3  2018-04-17 13:00:00              BKN:07 46 BKN:07 85                8.3   \n",
       "4  2018-01-04 01:00:00                        OVC:08 32               -1.7   \n",
       "\n",
       "  HOURLYRelativeHumidity HOURLYWindSpeed HOURLYWindDirection  \\\n",
       "0                   53.0            16.0                 310   \n",
       "1                   43.0             5.0                 180   \n",
       "2                   61.0             6.0                 070   \n",
       "3                   44.0            17.0                 260   \n",
       "4                   45.0             8.0                 020   \n",
       "\n",
       "  HOURLYStationPressure  \n",
       "0                 29.97  \n",
       "1                 29.97  \n",
       "2                  29.7  \n",
       "3                  29.6  \n",
       "4                 29.91  "
      ]
     },
     "execution_count": 24,
     "metadata": {},
     "output_type": "execute_result"
    }
   ],
   "source": [
    "ny_weather_data['learningData'].head()"
   ]
  },
  {
   "cell_type": "markdown",
   "metadata": {},
   "source": [
    "## Augmenting a dataset"
   ]
  },
  {
   "cell_type": "markdown",
   "metadata": {},
   "source": [
    " Let's try to do our augmentation for the first query result."
   ]
  },
  {
   "cell_type": "code",
   "execution_count": 25,
   "metadata": {},
   "outputs": [],
   "source": [
    "join_ = results[0].augment(supplied_data=ny_taxi_demand)"
   ]
  },
  {
   "cell_type": "code",
   "execution_count": 26,
   "metadata": {},
   "outputs": [
    {
     "data": {
      "text/html": [
       "<div>\n",
       "<style scoped>\n",
       "    .dataframe tbody tr th:only-of-type {\n",
       "        vertical-align: middle;\n",
       "    }\n",
       "\n",
       "    .dataframe tbody tr th {\n",
       "        vertical-align: top;\n",
       "    }\n",
       "\n",
       "    .dataframe thead th {\n",
       "        text-align: right;\n",
       "    }\n",
       "</style>\n",
       "<table border=\"1\" class=\"dataframe\">\n",
       "  <thead>\n",
       "    <tr style=\"text-align: right;\">\n",
       "      <th></th>\n",
       "      <th>d3mIndex</th>\n",
       "      <th>tpep_pickup_datetime</th>\n",
       "      <th>num_pickups</th>\n",
       "      <th>HOURLYSKYCONDITIONS</th>\n",
       "      <th>HOURLYDRYBULBTEMPC</th>\n",
       "      <th>HOURLYRelativeHumidity</th>\n",
       "      <th>HOURLYWindSpeed</th>\n",
       "      <th>HOURLYWindDirection</th>\n",
       "      <th>HOURLYStationPressure</th>\n",
       "    </tr>\n",
       "  </thead>\n",
       "  <tbody>\n",
       "    <tr>\n",
       "      <th>0</th>\n",
       "      <td>0</td>\n",
       "      <td>2018-04-19 22:00:00</td>\n",
       "      <td>731</td>\n",
       "      <td>FEW:02 42</td>\n",
       "      <td>5.0</td>\n",
       "      <td>53.0</td>\n",
       "      <td>16.0</td>\n",
       "      <td>310</td>\n",
       "      <td>29.97</td>\n",
       "    </tr>\n",
       "    <tr>\n",
       "      <th>1</th>\n",
       "      <td>1</td>\n",
       "      <td>2018-06-30 20:00:00</td>\n",
       "      <td>183</td>\n",
       "      <td>SCT:04 250</td>\n",
       "      <td>30.6</td>\n",
       "      <td>43.0</td>\n",
       "      <td>5.0</td>\n",
       "      <td>180</td>\n",
       "      <td>29.97</td>\n",
       "    </tr>\n",
       "    <tr>\n",
       "      <th>2</th>\n",
       "      <td>2</td>\n",
       "      <td>2018-06-02 10:00:00</td>\n",
       "      <td>384</td>\n",
       "      <td>FEW:02 40 FEW:02 150 SCT:04 200</td>\n",
       "      <td>28.3</td>\n",
       "      <td>61.0</td>\n",
       "      <td>6.0</td>\n",
       "      <td>070</td>\n",
       "      <td>29.7</td>\n",
       "    </tr>\n",
       "    <tr>\n",
       "      <th>3</th>\n",
       "      <td>3</td>\n",
       "      <td>2018-04-17 13:00:00</td>\n",
       "      <td>648</td>\n",
       "      <td>BKN:07 46 BKN:07 85</td>\n",
       "      <td>8.3</td>\n",
       "      <td>44.0</td>\n",
       "      <td>17.0</td>\n",
       "      <td>260</td>\n",
       "      <td>29.6</td>\n",
       "    </tr>\n",
       "    <tr>\n",
       "      <th>4</th>\n",
       "      <td>4</td>\n",
       "      <td>2018-01-04 01:00:00</td>\n",
       "      <td>3</td>\n",
       "      <td>OVC:08 32</td>\n",
       "      <td>-1.7</td>\n",
       "      <td>45.0</td>\n",
       "      <td>8.0</td>\n",
       "      <td>020</td>\n",
       "      <td>29.91</td>\n",
       "    </tr>\n",
       "  </tbody>\n",
       "</table>\n",
       "</div>"
      ],
      "text/plain": [
       "  d3mIndex tpep_pickup_datetime num_pickups              HOURLYSKYCONDITIONS  \\\n",
       "0        0  2018-04-19 22:00:00         731                        FEW:02 42   \n",
       "1        1  2018-06-30 20:00:00         183                       SCT:04 250   \n",
       "2        2  2018-06-02 10:00:00         384  FEW:02 40 FEW:02 150 SCT:04 200   \n",
       "3        3  2018-04-17 13:00:00         648              BKN:07 46 BKN:07 85   \n",
       "4        4  2018-01-04 01:00:00           3                        OVC:08 32   \n",
       "\n",
       "  HOURLYDRYBULBTEMPC HOURLYRelativeHumidity HOURLYWindSpeed  \\\n",
       "0                5.0                   53.0            16.0   \n",
       "1               30.6                   43.0             5.0   \n",
       "2               28.3                   61.0             6.0   \n",
       "3                8.3                   44.0            17.0   \n",
       "4               -1.7                   45.0             8.0   \n",
       "\n",
       "  HOURLYWindDirection HOURLYStationPressure  \n",
       "0                 310                 29.97  \n",
       "1                 180                 29.97  \n",
       "2                 070                  29.7  \n",
       "3                 260                  29.6  \n",
       "4                 020                 29.91  "
      ]
     },
     "execution_count": 26,
     "metadata": {},
     "output_type": "execute_result"
    }
   ],
   "source": [
    "join_['learningData'].head()"
   ]
  },
  {
   "cell_type": "markdown",
   "metadata": {},
   "source": [
    "We can also choose which columns from the DataMart dataset (i.e., the weather data) that we want in the augmentation process."
   ]
  },
  {
   "cell_type": "code",
   "execution_count": 27,
   "metadata": {},
   "outputs": [],
   "source": [
    "join_ = results[0].augment(\n",
    "    supplied_data=ny_taxi_demand,\n",
    "    augment_columns=[datamart.DatasetColumn('0', 3), datamart.DatasetColumn('0', 5)]\n",
    ")"
   ]
  },
  {
   "cell_type": "code",
   "execution_count": 28,
   "metadata": {},
   "outputs": [
    {
     "data": {
      "text/html": [
       "<div>\n",
       "<style scoped>\n",
       "    .dataframe tbody tr th:only-of-type {\n",
       "        vertical-align: middle;\n",
       "    }\n",
       "\n",
       "    .dataframe tbody tr th {\n",
       "        vertical-align: top;\n",
       "    }\n",
       "\n",
       "    .dataframe thead th {\n",
       "        text-align: right;\n",
       "    }\n",
       "</style>\n",
       "<table border=\"1\" class=\"dataframe\">\n",
       "  <thead>\n",
       "    <tr style=\"text-align: right;\">\n",
       "      <th></th>\n",
       "      <th>d3mIndex</th>\n",
       "      <th>tpep_pickup_datetime</th>\n",
       "      <th>num_pickups</th>\n",
       "      <th>HOURLYRelativeHumidity</th>\n",
       "      <th>HOURLYWindDirection</th>\n",
       "    </tr>\n",
       "  </thead>\n",
       "  <tbody>\n",
       "    <tr>\n",
       "      <th>0</th>\n",
       "      <td>0</td>\n",
       "      <td>2018-04-19 22:00:00</td>\n",
       "      <td>731</td>\n",
       "      <td>53.0</td>\n",
       "      <td>310</td>\n",
       "    </tr>\n",
       "    <tr>\n",
       "      <th>1</th>\n",
       "      <td>1</td>\n",
       "      <td>2018-06-30 20:00:00</td>\n",
       "      <td>183</td>\n",
       "      <td>43.0</td>\n",
       "      <td>180</td>\n",
       "    </tr>\n",
       "    <tr>\n",
       "      <th>2</th>\n",
       "      <td>2</td>\n",
       "      <td>2018-06-02 10:00:00</td>\n",
       "      <td>384</td>\n",
       "      <td>61.0</td>\n",
       "      <td>070</td>\n",
       "    </tr>\n",
       "    <tr>\n",
       "      <th>3</th>\n",
       "      <td>3</td>\n",
       "      <td>2018-04-17 13:00:00</td>\n",
       "      <td>648</td>\n",
       "      <td>44.0</td>\n",
       "      <td>260</td>\n",
       "    </tr>\n",
       "    <tr>\n",
       "      <th>4</th>\n",
       "      <td>4</td>\n",
       "      <td>2018-01-04 01:00:00</td>\n",
       "      <td>3</td>\n",
       "      <td>45.0</td>\n",
       "      <td>020</td>\n",
       "    </tr>\n",
       "  </tbody>\n",
       "</table>\n",
       "</div>"
      ],
      "text/plain": [
       "  d3mIndex tpep_pickup_datetime num_pickups HOURLYRelativeHumidity  \\\n",
       "0        0  2018-04-19 22:00:00         731                   53.0   \n",
       "1        1  2018-06-30 20:00:00         183                   43.0   \n",
       "2        2  2018-06-02 10:00:00         384                   61.0   \n",
       "3        3  2018-04-17 13:00:00         648                   44.0   \n",
       "4        4  2018-01-04 01:00:00           3                   45.0   \n",
       "\n",
       "  HOURLYWindDirection  \n",
       "0                 310  \n",
       "1                 180  \n",
       "2                 070  \n",
       "3                 260  \n",
       "4                 020  "
      ]
     },
     "execution_count": 28,
     "metadata": {},
     "output_type": "execute_result"
    }
   ],
   "source": [
    "join_['learningData'].head()"
   ]
  },
  {
   "cell_type": "code",
   "execution_count": null,
   "metadata": {},
   "outputs": [],
   "source": []
  }
 ],
 "metadata": {
  "kernelspec": {
   "display_name": "nyu-datamart-api",
   "language": "python",
   "name": "nyu-datamart-api"
  },
  "language_info": {
   "codemirror_mode": {
    "name": "ipython",
    "version": 3
   },
   "file_extension": ".py",
   "mimetype": "text/x-python",
   "name": "python",
   "nbconvert_exporter": "python",
   "pygments_lexer": "ipython3",
   "version": "3.6.8"
  }
 },
 "nbformat": 4,
 "nbformat_minor": 2
}
