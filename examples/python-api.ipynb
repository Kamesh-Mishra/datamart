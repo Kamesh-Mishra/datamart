{
 "cells": [
  {
   "cell_type": "markdown",
   "metadata": {},
   "source": [
    "## Python API for DataMart\n",
    "\n",
    "This notebook showcases how to use the Python API for the DataMart system. For the augmentation, we use the taxi demand example from MIT-LL, available here: https://gitlab.datadrivendiscovery.org/MIT-LL/phase_2/data_augmentation_track_seed/da_seed_ny_taxi_demand_prediction\n",
    "\n",
    "The Python API is available on GitHub (https://gitlab.com/ViDA-NYU/datamart/datamart/tree/master/lib_client). To install it, run `python setup.py install` in that directory. Alternatively, the API is also available through pip (https://pypi.org/project/datamart/): to install it, simply run `pip install datamart`."
   ]
  },
  {
   "cell_type": "code",
   "execution_count": 1,
   "metadata": {},
   "outputs": [],
   "source": [
    "import datamart\n",
    "from io import BytesIO\n",
    "import pandas as pd\n",
    "from pprint import pprint"
   ]
  },
  {
   "cell_type": "markdown",
   "metadata": {},
   "source": [
    "Initially, we have the taxi demand data."
   ]
  },
  {
   "cell_type": "code",
   "execution_count": 2,
   "metadata": {},
   "outputs": [
    {
     "data": {
      "text/html": [
       "<div>\n",
       "<style scoped>\n",
       "    .dataframe tbody tr th:only-of-type {\n",
       "        vertical-align: middle;\n",
       "    }\n",
       "\n",
       "    .dataframe tbody tr th {\n",
       "        vertical-align: top;\n",
       "    }\n",
       "\n",
       "    .dataframe thead th {\n",
       "        text-align: right;\n",
       "    }\n",
       "</style>\n",
       "<table border=\"1\" class=\"dataframe\">\n",
       "  <thead>\n",
       "    <tr style=\"text-align: right;\">\n",
       "      <th></th>\n",
       "      <th>d3mIndex</th>\n",
       "      <th>tpep_pickup_datetime</th>\n",
       "      <th>num_pickups</th>\n",
       "    </tr>\n",
       "  </thead>\n",
       "  <tbody>\n",
       "    <tr>\n",
       "      <th>0</th>\n",
       "      <td>0</td>\n",
       "      <td>2018-01-01 00:00:00</td>\n",
       "      <td>67</td>\n",
       "    </tr>\n",
       "    <tr>\n",
       "      <th>1</th>\n",
       "      <td>1</td>\n",
       "      <td>2018-01-01 01:00:00</td>\n",
       "      <td>8</td>\n",
       "    </tr>\n",
       "    <tr>\n",
       "      <th>2</th>\n",
       "      <td>2</td>\n",
       "      <td>2018-01-01 02:00:00</td>\n",
       "      <td>0</td>\n",
       "    </tr>\n",
       "    <tr>\n",
       "      <th>3</th>\n",
       "      <td>3</td>\n",
       "      <td>2018-01-01 03:00:00</td>\n",
       "      <td>0</td>\n",
       "    </tr>\n",
       "    <tr>\n",
       "      <th>4</th>\n",
       "      <td>4</td>\n",
       "      <td>2018-01-01 04:00:00</td>\n",
       "      <td>7</td>\n",
       "    </tr>\n",
       "  </tbody>\n",
       "</table>\n",
       "</div>"
      ],
      "text/plain": [
       "   d3mIndex tpep_pickup_datetime  num_pickups\n",
       "0         0  2018-01-01 00:00:00           67\n",
       "1         1  2018-01-01 01:00:00            8\n",
       "2         2  2018-01-01 02:00:00            0\n",
       "3         3  2018-01-01 03:00:00            0\n",
       "4         4  2018-01-01 04:00:00            7"
      ]
     },
     "execution_count": 2,
     "metadata": {},
     "output_type": "execute_result"
    }
   ],
   "source": [
    "taxi_demand = pd.read_csv('data/ny_taxi_demand_prediction.csv')\n",
    "taxi_demand.head()"
   ]
  },
  {
   "cell_type": "markdown",
   "metadata": {},
   "source": [
    "### Searching for Datasets\n",
    "\n",
    "Let's use DataMart to search for a weather datasets that can be used to augment the taxi demand one."
   ]
  },
  {
   "cell_type": "code",
   "execution_count": 3,
   "metadata": {},
   "outputs": [],
   "source": [
    "query_results = datamart.search(\n",
    "    url='https://datamart.d3m.vida-nyu.org',\n",
    "    data='data/ny_taxi_demand_prediction.csv',\n",
    "    query={'dataset': {'about': 'weather'}},\n",
    "    send_data=True)"
   ]
  },
  {
   "cell_type": "code",
   "execution_count": 4,
   "metadata": {},
   "outputs": [
    {
     "name": "stdout",
     "output_type": "stream",
     "text": [
      "<Dataset 'datamart.upload.7ccf4492c1da44ffbdc747e278fd65f4' score=1.0 augmentation=join>\n",
      "Newyork Weather Data around Airport 2016-18\n",
      "{'union': [], 'join': [['tpep_pickup_datetime', 'DATE']]}\n",
      "--------\n"
     ]
    }
   ],
   "source": [
    "for result in query_results:\n",
    "    print(result)\n",
    "    print(result.metadata['name'])\n",
    "    print(result.get_augmentation_information())\n",
    "    print('--------')"
   ]
  },
  {
   "cell_type": "markdown",
   "metadata": {},
   "source": [
    "The first dataset had score 1.0 for join, between columns `tpep_pickup_datetime` (from the taxi demand dataset) and `DATE` (from the query result dataset)."
   ]
  },
  {
   "cell_type": "markdown",
   "metadata": {},
   "source": [
    "Alternatively, we can also send a `pandas.DataFrame` object, instead the file itself ..."
   ]
  },
  {
   "cell_type": "code",
   "execution_count": 5,
   "metadata": {},
   "outputs": [],
   "source": [
    "query_results = datamart.search(\n",
    "    url='https://datamart.d3m.vida-nyu.org',\n",
    "    data=taxi_demand,\n",
    "    query={'dataset': {'about': 'weather'}})"
   ]
  },
  {
   "cell_type": "markdown",
   "metadata": {},
   "source": [
    "... and we get the same results:"
   ]
  },
  {
   "cell_type": "code",
   "execution_count": 6,
   "metadata": {},
   "outputs": [
    {
     "name": "stdout",
     "output_type": "stream",
     "text": [
      "<Dataset 'datamart.upload.7ccf4492c1da44ffbdc747e278fd65f4' score=1.0 augmentation=join>\n",
      "Newyork Weather Data around Airport 2016-18\n",
      "{'union': [], 'join': [['tpep_pickup_datetime', 'DATE']]}\n",
      "--------\n"
     ]
    }
   ],
   "source": [
    "for result in query_results:\n",
    "    print(result)\n",
    "    print(result.metadata['name'])\n",
    "    print(result.get_augmentation_information())\n",
    "    print('--------')"
   ]
  },
  {
   "cell_type": "markdown",
   "metadata": {},
   "source": [
    "We could also just simply search for all of the datasets that can be joined/unioned with the taxi demand one."
   ]
  },
  {
   "cell_type": "code",
   "execution_count": 7,
   "metadata": {},
   "outputs": [],
   "source": [
    "query_results = datamart.search(\n",
    "    url='https://datamart.d3m.vida-nyu.org',\n",
    "    data='data/ny_taxi_demand_prediction.csv',\n",
    "    send_data=True)"
   ]
  },
  {
   "cell_type": "code",
   "execution_count": 8,
   "metadata": {
    "scrolled": false
   },
   "outputs": [
    {
     "name": "stdout",
     "output_type": "stream",
     "text": [
      "There are 487 query results!\n",
      "\n",
      "<Dataset 'datamart.socrata.data-cityofnewyork-us.735p-zed8' score=1.0 augmentation=join>\n",
      "2001 Campaign Contributions\n",
      "{'union': [], 'join': [['tpep_pickup_datetime', 'DATE']]}\n",
      "--------\n",
      "<Dataset 'datamart.socrata.data-cityofnewyork-us.emrz-5p35' score=1.0 augmentation=join>\n",
      "Invoices for Open Market Order (OMO) Charges\n",
      "{'union': [], 'join': [['tpep_pickup_datetime', 'DateTransferDoF']]}\n",
      "--------\n",
      "<Dataset 'datamart.socrata.data-cityofnewyork-us.ucdy-byxd' score=1.0 augmentation=join>\n",
      "Local Law 44 - Projects\n",
      "{'union': [], 'join': [['tpep_pickup_datetime', 'ProjectedCompletionDate']]}\n",
      "--------\n",
      "<Dataset 'datamart.socrata.data-cityofnewyork-us.2eq2-trdu' score=1.0 augmentation=join>\n",
      "Directory Of Competitive Bid\n",
      "{'union': [], 'join': [['tpep_pickup_datetime', 'BID DATE & TIME\\xa0\\xa0\\xa0']]}\n",
      "--------\n",
      "<Dataset 'datamart.socrata.data-cityofnewyork-us.7xq6-k6zy' score=1.0 augmentation=join>\n",
      "Appeals Filed In 2017\n",
      "{'union': [], 'join': [['tpep_pickup_datetime', 'Expiration']]}\n",
      "--------\n"
     ]
    }
   ],
   "source": [
    "print('There are %d query results!\\n' % len(query_results))\n",
    "for result in query_results[:5]: # top-5\n",
    "    print(result)\n",
    "    print(result.metadata['name'])\n",
    "    print(result.get_augmentation_information())\n",
    "    print('--------')"
   ]
  },
  {
   "cell_type": "markdown",
   "metadata": {},
   "source": [
    "This shows the importance of also using the query schema to filter results, as there can be many datasets that can be joined or unioned with the input data."
   ]
  },
  {
   "cell_type": "markdown",
   "metadata": {},
   "source": [
    "### Downloading a Dataset"
   ]
  },
  {
   "cell_type": "markdown",
   "metadata": {},
   "source": [
    "Now let's materialize the weather dataset, in case the user wants to take a look at the data before augmenting it (or so that the user can augment the data him/herself)."
   ]
  },
  {
   "cell_type": "code",
   "execution_count": 9,
   "metadata": {},
   "outputs": [],
   "source": [
    "query_results = datamart.search(\n",
    "    url='https://datamart.d3m.vida-nyu.org',\n",
    "    data='data/ny_taxi_demand_prediction.csv',\n",
    "    query={'dataset': {'about': 'weather'}},\n",
    "    send_data=True)"
   ]
  },
  {
   "cell_type": "code",
   "execution_count": 10,
   "metadata": {},
   "outputs": [
    {
     "name": "stdout",
     "output_type": "stream",
     "text": [
      "<Dataset 'datamart.upload.7ccf4492c1da44ffbdc747e278fd65f4' score=1.0 augmentation=join>\n",
      "Newyork Weather Data around Airport 2016-18\n",
      "{'union': [], 'join': [['tpep_pickup_datetime', 'DATE']]}\n",
      "--------\n"
     ]
    }
   ],
   "source": [
    "for result in query_results:\n",
    "    print(result)\n",
    "    print(result.metadata['name'])\n",
    "    print(result.get_augmentation_information())\n",
    "    print('--------')"
   ]
  },
  {
   "cell_type": "code",
   "execution_count": 11,
   "metadata": {},
   "outputs": [
    {
     "name": "stderr",
     "output_type": "stream",
     "text": [
      "/usr/local/lib/python3.7/site-packages/datamart-0.1-py3.7.egg/datamart.py:212: UserWarning: datamart_materialize is not installed, DataMart server will do materialization for us\n"
     ]
    }
   ],
   "source": [
    "weather_data_io = BytesIO()\n",
    "query_results[0].download(destination=weather_data_io)\n",
    "weather_data_io.seek(0)\n",
    "weather_data = pd.read_csv(weather_data_io)\n",
    "weather_data_io.close()"
   ]
  },
  {
   "cell_type": "code",
   "execution_count": 12,
   "metadata": {},
   "outputs": [
    {
     "data": {
      "text/html": [
       "<div>\n",
       "<style scoped>\n",
       "    .dataframe tbody tr th:only-of-type {\n",
       "        vertical-align: middle;\n",
       "    }\n",
       "\n",
       "    .dataframe tbody tr th {\n",
       "        vertical-align: top;\n",
       "    }\n",
       "\n",
       "    .dataframe thead th {\n",
       "        text-align: right;\n",
       "    }\n",
       "</style>\n",
       "<table border=\"1\" class=\"dataframe\">\n",
       "  <thead>\n",
       "    <tr style=\"text-align: right;\">\n",
       "      <th></th>\n",
       "      <th>DATE</th>\n",
       "      <th>HOURLYSKYCONDITIONS</th>\n",
       "      <th>HOURLYDRYBULBTEMPC</th>\n",
       "      <th>HOURLYRelativeHumidity</th>\n",
       "      <th>HOURLYWindSpeed</th>\n",
       "      <th>HOURLYWindDirection</th>\n",
       "      <th>HOURLYStationPressure</th>\n",
       "    </tr>\n",
       "  </thead>\n",
       "  <tbody>\n",
       "    <tr>\n",
       "      <th>0</th>\n",
       "      <td>2016-01-01 01:00:00</td>\n",
       "      <td>OVC:08 38</td>\n",
       "      <td>6.1</td>\n",
       "      <td>58.0</td>\n",
       "      <td>17.0</td>\n",
       "      <td>300</td>\n",
       "      <td>30.03</td>\n",
       "    </tr>\n",
       "    <tr>\n",
       "      <th>1</th>\n",
       "      <td>2016-01-01 02:00:00</td>\n",
       "      <td>OVC:08 38</td>\n",
       "      <td>6.1</td>\n",
       "      <td>56.0</td>\n",
       "      <td>16.0</td>\n",
       "      <td>320</td>\n",
       "      <td>30.03</td>\n",
       "    </tr>\n",
       "    <tr>\n",
       "      <th>2</th>\n",
       "      <td>2016-01-01 03:00:00</td>\n",
       "      <td>OVC:08 38</td>\n",
       "      <td>5.6</td>\n",
       "      <td>55.0</td>\n",
       "      <td>13.0</td>\n",
       "      <td>340</td>\n",
       "      <td>30.03</td>\n",
       "    </tr>\n",
       "    <tr>\n",
       "      <th>3</th>\n",
       "      <td>2016-01-01 04:00:00</td>\n",
       "      <td>OVC:08 36</td>\n",
       "      <td>5.6</td>\n",
       "      <td>55.0</td>\n",
       "      <td>13.0</td>\n",
       "      <td>300</td>\n",
       "      <td>30.03</td>\n",
       "    </tr>\n",
       "    <tr>\n",
       "      <th>4</th>\n",
       "      <td>2016-01-01 05:00:00</td>\n",
       "      <td>FEW:02 34 OVC:08 45</td>\n",
       "      <td>5.0</td>\n",
       "      <td>60.0</td>\n",
       "      <td>13.0</td>\n",
       "      <td>270</td>\n",
       "      <td>30.01</td>\n",
       "    </tr>\n",
       "  </tbody>\n",
       "</table>\n",
       "</div>"
      ],
      "text/plain": [
       "                  DATE  HOURLYSKYCONDITIONS  HOURLYDRYBULBTEMPC  \\\n",
       "0  2016-01-01 01:00:00            OVC:08 38                 6.1   \n",
       "1  2016-01-01 02:00:00            OVC:08 38                 6.1   \n",
       "2  2016-01-01 03:00:00            OVC:08 38                 5.6   \n",
       "3  2016-01-01 04:00:00            OVC:08 36                 5.6   \n",
       "4  2016-01-01 05:00:00  FEW:02 34 OVC:08 45                 5.0   \n",
       "\n",
       "   HOURLYRelativeHumidity  HOURLYWindSpeed HOURLYWindDirection  \\\n",
       "0                    58.0             17.0                 300   \n",
       "1                    56.0             16.0                 320   \n",
       "2                    55.0             13.0                 340   \n",
       "3                    55.0             13.0                 300   \n",
       "4                    60.0             13.0                 270   \n",
       "\n",
       "  HOURLYStationPressure  \n",
       "0                 30.03  \n",
       "1                 30.03  \n",
       "2                 30.03  \n",
       "3                 30.03  \n",
       "4                 30.01  "
      ]
     },
     "execution_count": 12,
     "metadata": {},
     "output_type": "execute_result"
    }
   ],
   "source": [
    "weather_data.head()"
   ]
  },
  {
   "cell_type": "markdown",
   "metadata": {},
   "source": [
    "### Augmenting a Dataset"
   ]
  },
  {
   "cell_type": "markdown",
   "metadata": {},
   "source": [
    "Let's try to do our augmentation for the first query result."
   ]
  },
  {
   "cell_type": "code",
   "execution_count": 13,
   "metadata": {},
   "outputs": [],
   "source": [
    "learning_data, dataset_doc = datamart.augment(\n",
    "    data='data/ny_taxi_demand_prediction.csv',\n",
    "    augment_data=query_results[0],\n",
    "    send_data=True\n",
    ")"
   ]
  },
  {
   "cell_type": "code",
   "execution_count": 14,
   "metadata": {},
   "outputs": [
    {
     "data": {
      "text/html": [
       "<div>\n",
       "<style scoped>\n",
       "    .dataframe tbody tr th:only-of-type {\n",
       "        vertical-align: middle;\n",
       "    }\n",
       "\n",
       "    .dataframe tbody tr th {\n",
       "        vertical-align: top;\n",
       "    }\n",
       "\n",
       "    .dataframe thead th {\n",
       "        text-align: right;\n",
       "    }\n",
       "</style>\n",
       "<table border=\"1\" class=\"dataframe\">\n",
       "  <thead>\n",
       "    <tr style=\"text-align: right;\">\n",
       "      <th></th>\n",
       "      <th>tpep_pickup_datetime</th>\n",
       "      <th>num_pickups</th>\n",
       "      <th>HOURLYSKYCONDITIONS</th>\n",
       "      <th>HOURLYDRYBULBTEMPC</th>\n",
       "      <th>HOURLYRelativeHumidity</th>\n",
       "      <th>HOURLYWindSpeed</th>\n",
       "      <th>HOURLYWindDirection</th>\n",
       "      <th>HOURLYStationPressure</th>\n",
       "      <th>d3mIndex</th>\n",
       "    </tr>\n",
       "  </thead>\n",
       "  <tbody>\n",
       "    <tr>\n",
       "      <th>0</th>\n",
       "      <td>2018-01-01 00:00:00</td>\n",
       "      <td>67</td>\n",
       "      <td>CLR:00</td>\n",
       "      <td>-12.2</td>\n",
       "      <td>61.0</td>\n",
       "      <td>14.0</td>\n",
       "      <td>330</td>\n",
       "      <td>30.29</td>\n",
       "      <td>0</td>\n",
       "    </tr>\n",
       "    <tr>\n",
       "      <th>1</th>\n",
       "      <td>2018-01-01 01:00:00</td>\n",
       "      <td>8</td>\n",
       "      <td>CLR:00</td>\n",
       "      <td>-12.2</td>\n",
       "      <td>61.0</td>\n",
       "      <td>17.0</td>\n",
       "      <td>320</td>\n",
       "      <td>30.30</td>\n",
       "      <td>1</td>\n",
       "    </tr>\n",
       "    <tr>\n",
       "      <th>2</th>\n",
       "      <td>2018-01-01 02:00:00</td>\n",
       "      <td>0</td>\n",
       "      <td>CLR:00</td>\n",
       "      <td>-12.2</td>\n",
       "      <td>61.0</td>\n",
       "      <td>17.0</td>\n",
       "      <td>320</td>\n",
       "      <td>30.30</td>\n",
       "      <td>2</td>\n",
       "    </tr>\n",
       "    <tr>\n",
       "      <th>3</th>\n",
       "      <td>2018-01-01 03:00:00</td>\n",
       "      <td>0</td>\n",
       "      <td>CLR:00</td>\n",
       "      <td>-12.8</td>\n",
       "      <td>64.0</td>\n",
       "      <td>11.0</td>\n",
       "      <td>310</td>\n",
       "      <td>30.32</td>\n",
       "      <td>3</td>\n",
       "    </tr>\n",
       "    <tr>\n",
       "      <th>4</th>\n",
       "      <td>2018-01-01 04:00:00</td>\n",
       "      <td>7</td>\n",
       "      <td>CLR:00</td>\n",
       "      <td>-12.8</td>\n",
       "      <td>61.0</td>\n",
       "      <td>15.0</td>\n",
       "      <td>300</td>\n",
       "      <td>30.31</td>\n",
       "      <td>4</td>\n",
       "    </tr>\n",
       "  </tbody>\n",
       "</table>\n",
       "</div>"
      ],
      "text/plain": [
       "  tpep_pickup_datetime  num_pickups HOURLYSKYCONDITIONS  HOURLYDRYBULBTEMPC  \\\n",
       "0  2018-01-01 00:00:00           67              CLR:00               -12.2   \n",
       "1  2018-01-01 01:00:00            8              CLR:00               -12.2   \n",
       "2  2018-01-01 02:00:00            0              CLR:00               -12.2   \n",
       "3  2018-01-01 03:00:00            0              CLR:00               -12.8   \n",
       "4  2018-01-01 04:00:00            7              CLR:00               -12.8   \n",
       "\n",
       "   HOURLYRelativeHumidity  HOURLYWindSpeed HOURLYWindDirection  \\\n",
       "0                    61.0             14.0                 330   \n",
       "1                    61.0             17.0                 320   \n",
       "2                    61.0             17.0                 320   \n",
       "3                    64.0             11.0                 310   \n",
       "4                    61.0             15.0                 300   \n",
       "\n",
       "   HOURLYStationPressure  d3mIndex  \n",
       "0                  30.29         0  \n",
       "1                  30.30         1  \n",
       "2                  30.30         2  \n",
       "3                  30.32         3  \n",
       "4                  30.31         4  "
      ]
     },
     "execution_count": 14,
     "metadata": {},
     "output_type": "execute_result"
    }
   ],
   "source": [
    "learning_data.head()"
   ]
  },
  {
   "cell_type": "markdown",
   "metadata": {},
   "source": [
    "And we have our augmented data! DataMart also produces a datasetDoc JSON object for the dataset."
   ]
  },
  {
   "cell_type": "code",
   "execution_count": 15,
   "metadata": {},
   "outputs": [
    {
     "name": "stdout",
     "output_type": "stream",
     "text": [
      "{ 'about': { 'approximateSize': '539534 B',\n",
      "             'datasetID': '0590b256c2234fdc85e7dfb13e83fb7b',\n",
      "             'datasetName': '0590b256c2234fdc85e7dfb13e83fb7b',\n",
      "             'datasetSchemaVersion': '3.2.0',\n",
      "             'datasetVersion': '0.0',\n",
      "             'license': 'unknown',\n",
      "             'redacted': False},\n",
      "  'dataResources': [ { 'columns': [ { 'colIndex': 0,\n",
      "                                      'colName': 'tpep_pickup_datetime',\n",
      "                                      'colType': 'dateTime',\n",
      "                                      'role': ['attribute']},\n",
      "                                    { 'colIndex': 1,\n",
      "                                      'colName': 'num_pickups',\n",
      "                                      'colType': 'integer',\n",
      "                                      'role': ['attribute']},\n",
      "                                    { 'colIndex': 2,\n",
      "                                      'colName': 'HOURLYSKYCONDITIONS',\n",
      "                                      'colType': 'string',\n",
      "                                      'role': ['attribute']},\n",
      "                                    { 'colIndex': 3,\n",
      "                                      'colName': 'HOURLYDRYBULBTEMPC',\n",
      "                                      'colType': 'real',\n",
      "                                      'role': ['attribute']},\n",
      "                                    { 'colIndex': 4,\n",
      "                                      'colName': 'HOURLYRelativeHumidity',\n",
      "                                      'colType': 'real',\n",
      "                                      'role': ['attribute']},\n",
      "                                    { 'colIndex': 5,\n",
      "                                      'colName': 'HOURLYWindSpeed',\n",
      "                                      'colType': 'real',\n",
      "                                      'role': ['attribute']},\n",
      "                                    { 'colIndex': 6,\n",
      "                                      'colName': 'HOURLYWindDirection',\n",
      "                                      'colType': 'string',\n",
      "                                      'role': ['attribute']},\n",
      "                                    { 'colIndex': 7,\n",
      "                                      'colName': 'HOURLYStationPressure',\n",
      "                                      'colType': 'real',\n",
      "                                      'role': ['attribute']},\n",
      "                                    { 'colIndex': 8,\n",
      "                                      'colName': 'd3mIndex',\n",
      "                                      'colType': 'integer',\n",
      "                                      'role': ['index']}],\n",
      "                       'isCollection': False,\n",
      "                       'resFormat': ['text/csv'],\n",
      "                       'resID': '0',\n",
      "                       'resPath': 'tables/learningData.csv',\n",
      "                       'resType': 'table'}]}\n"
     ]
    }
   ],
   "source": [
    "pprint(dataset_doc, indent=2)"
   ]
  },
  {
   "cell_type": "code",
   "execution_count": null,
   "metadata": {},
   "outputs": [],
   "source": []
  }
 ],
 "metadata": {
  "kernelspec": {
   "display_name": "Python 3",
   "language": "python",
   "name": "python3"
  },
  "language_info": {
   "codemirror_mode": {
    "name": "ipython",
    "version": 3
   },
   "file_extension": ".py",
   "mimetype": "text/x-python",
   "name": "python",
   "nbconvert_exporter": "python",
   "pygments_lexer": "ipython3",
   "version": "3.7.1"
  }
 },
 "nbformat": 4,
 "nbformat_minor": 2
}
