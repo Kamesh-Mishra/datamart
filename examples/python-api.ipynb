{
 "cells": [
  {
   "cell_type": "markdown",
   "metadata": {},
   "source": [
    "## Python API for DataMart\n",
    "\n",
    "This notebook showcases how to use the Python API for the DataMart system. For the augmentation, we use the taxi demand example from MIT-LL, available here: https://gitlab.datadrivendiscovery.org/MIT-LL/phase_2/data_augmentation_track_seed/da_seed_ny_taxi_demand_prediction\n",
    "\n",
    "The Python API is available on GitHub (https://gitlab.com/ViDA-NYU/datamart/datamart/tree/master/lib_client). To install it, run `python setup.py install` in that directory. Alternatively, the API is also available through pip (https://pypi.org/project/datamart/): to install it, simply run `pip install datamart`."
   ]
  },
  {
   "cell_type": "code",
   "execution_count": 21,
   "metadata": {},
   "outputs": [],
   "source": [
    "import datamart\n",
    "import pandas as pd\n",
    "from pprint import pprint"
   ]
  },
  {
   "cell_type": "markdown",
   "metadata": {},
   "source": [
    "Initially, we have the taxi demand data."
   ]
  },
  {
   "cell_type": "code",
   "execution_count": 3,
   "metadata": {},
   "outputs": [
    {
     "data": {
      "text/html": [
       "<div>\n",
       "<style scoped>\n",
       "    .dataframe tbody tr th:only-of-type {\n",
       "        vertical-align: middle;\n",
       "    }\n",
       "\n",
       "    .dataframe tbody tr th {\n",
       "        vertical-align: top;\n",
       "    }\n",
       "\n",
       "    .dataframe thead th {\n",
       "        text-align: right;\n",
       "    }\n",
       "</style>\n",
       "<table border=\"1\" class=\"dataframe\">\n",
       "  <thead>\n",
       "    <tr style=\"text-align: right;\">\n",
       "      <th></th>\n",
       "      <th>d3mIndex</th>\n",
       "      <th>tpep_pickup_datetime</th>\n",
       "      <th>num_pickups</th>\n",
       "    </tr>\n",
       "  </thead>\n",
       "  <tbody>\n",
       "    <tr>\n",
       "      <th>0</th>\n",
       "      <td>0</td>\n",
       "      <td>2018-01-01 00:00:00</td>\n",
       "      <td>67</td>\n",
       "    </tr>\n",
       "    <tr>\n",
       "      <th>1</th>\n",
       "      <td>1</td>\n",
       "      <td>2018-01-01 01:00:00</td>\n",
       "      <td>8</td>\n",
       "    </tr>\n",
       "    <tr>\n",
       "      <th>2</th>\n",
       "      <td>2</td>\n",
       "      <td>2018-01-01 02:00:00</td>\n",
       "      <td>0</td>\n",
       "    </tr>\n",
       "    <tr>\n",
       "      <th>3</th>\n",
       "      <td>3</td>\n",
       "      <td>2018-01-01 03:00:00</td>\n",
       "      <td>0</td>\n",
       "    </tr>\n",
       "    <tr>\n",
       "      <th>4</th>\n",
       "      <td>4</td>\n",
       "      <td>2018-01-01 04:00:00</td>\n",
       "      <td>7</td>\n",
       "    </tr>\n",
       "  </tbody>\n",
       "</table>\n",
       "</div>"
      ],
      "text/plain": [
       "   d3mIndex tpep_pickup_datetime  num_pickups\n",
       "0         0  2018-01-01 00:00:00           67\n",
       "1         1  2018-01-01 01:00:00            8\n",
       "2         2  2018-01-01 02:00:00            0\n",
       "3         3  2018-01-01 03:00:00            0\n",
       "4         4  2018-01-01 04:00:00            7"
      ]
     },
     "execution_count": 3,
     "metadata": {},
     "output_type": "execute_result"
    }
   ],
   "source": [
    "taxi_demand = pd.read_csv('data/ny_taxi_demand_prediction.csv')\n",
    "taxi_demand.head()"
   ]
  },
  {
   "cell_type": "markdown",
   "metadata": {},
   "source": [
    "### Searching for Datasets\n",
    "\n",
    "Let's use DataMart to search for a weather datasets that can be used to augment the taxi demand one."
   ]
  },
  {
   "cell_type": "code",
   "execution_count": 7,
   "metadata": {},
   "outputs": [],
   "source": [
    "query_results = datamart.search(\n",
    "    url='http://localhost:8002',\n",
    "    data='data/ny_taxi_demand_prediction.csv',\n",
    "    query={'dataset': {'about': 'weather'}},\n",
    "    send_data=True)"
   ]
  },
  {
   "cell_type": "code",
   "execution_count": 20,
   "metadata": {},
   "outputs": [
    {
     "name": "stdout",
     "output_type": "stream",
     "text": [
      "<Dataset 'datamart.upload.581f1d71d0dc4608811c0f662eec8e1d' score=1.0 augmentation=join>\n",
      "Newyork Weather Data around Airport 2016-18\n",
      "ny_lga_weather_data.csv\n",
      "{'union': [], 'join': [['tpep_pickup_datetime', 'DATE']]}\n",
      "--------\n"
     ]
    }
   ],
   "source": [
    "for result in query_results:\n",
    "    print(result)\n",
    "    print(result.metadata['name'])\n",
    "    print(result.metadata['filename'])\n",
    "    print(result.get_augmentation_information())\n",
    "    print('--------')"
   ]
  },
  {
   "cell_type": "markdown",
   "metadata": {},
   "source": [
    "The first dataset had score 1.0 for join, between columns `tpep_pickup_datetime` (from the taxi demand dataset) and `DATE` (from the query result dataset)."
   ]
  },
  {
   "cell_type": "markdown",
   "metadata": {},
   "source": [
    "Alternatively, we can also send a `pandas.DataFrame` object, instead the file itself ..."
   ]
  },
  {
   "cell_type": "code",
   "execution_count": 26,
   "metadata": {},
   "outputs": [],
   "source": [
    "query_results = datamart.search(\n",
    "    url='http://localhost:8002',\n",
    "    data=taxi_demand,\n",
    "    query={'dataset': {'about': 'weather'}})"
   ]
  },
  {
   "cell_type": "markdown",
   "metadata": {},
   "source": [
    "... and we get the same results:"
   ]
  },
  {
   "cell_type": "code",
   "execution_count": 27,
   "metadata": {},
   "outputs": [
    {
     "name": "stdout",
     "output_type": "stream",
     "text": [
      "<Dataset 'datamart.upload.581f1d71d0dc4608811c0f662eec8e1d' score=1.0 augmentation=join>\n",
      "Newyork Weather Data around Airport 2016-18\n",
      "ny_lga_weather_data.csv\n",
      "{'union': [], 'join': [['tpep_pickup_datetime', 'DATE']]}\n",
      "--------\n"
     ]
    }
   ],
   "source": [
    "for result in query_results:\n",
    "    print(result)\n",
    "    print(result.metadata['name'])\n",
    "    print(result.metadata['filename'])\n",
    "    print(result.get_augmentation_information())\n",
    "    print('--------')"
   ]
  },
  {
   "cell_type": "markdown",
   "metadata": {},
   "source": [
    "### Augmenting a Dataset"
   ]
  },
  {
   "cell_type": "markdown",
   "metadata": {},
   "source": [
    "Let's try to do our augmentation for the first query result."
   ]
  },
  {
   "cell_type": "code",
   "execution_count": 23,
   "metadata": {},
   "outputs": [],
   "source": [
    "learning_data, dataset_doc = datamart.augment(\n",
    "    data='data/ny_taxi_demand_prediction.csv',\n",
    "    augment_data=query_results[0],\n",
    "    send_data=True\n",
    ")"
   ]
  },
  {
   "cell_type": "code",
   "execution_count": 24,
   "metadata": {},
   "outputs": [
    {
     "data": {
      "text/html": [
       "<div>\n",
       "<style scoped>\n",
       "    .dataframe tbody tr th:only-of-type {\n",
       "        vertical-align: middle;\n",
       "    }\n",
       "\n",
       "    .dataframe tbody tr th {\n",
       "        vertical-align: top;\n",
       "    }\n",
       "\n",
       "    .dataframe thead th {\n",
       "        text-align: right;\n",
       "    }\n",
       "</style>\n",
       "<table border=\"1\" class=\"dataframe\">\n",
       "  <thead>\n",
       "    <tr style=\"text-align: right;\">\n",
       "      <th></th>\n",
       "      <th>tpep_pickup_datetime</th>\n",
       "      <th>num_pickups</th>\n",
       "      <th>HOURLYSKYCONDITIONS</th>\n",
       "      <th>HOURLYDRYBULBTEMPC</th>\n",
       "      <th>HOURLYRelativeHumidity</th>\n",
       "      <th>HOURLYWindSpeed</th>\n",
       "      <th>HOURLYWindDirection</th>\n",
       "      <th>HOURLYStationPressure</th>\n",
       "      <th>d3mIndex</th>\n",
       "    </tr>\n",
       "  </thead>\n",
       "  <tbody>\n",
       "    <tr>\n",
       "      <th>0</th>\n",
       "      <td>2018-01-01 00:00:00</td>\n",
       "      <td>67</td>\n",
       "      <td>CLR:00</td>\n",
       "      <td>-12.2</td>\n",
       "      <td>61.0</td>\n",
       "      <td>14.0</td>\n",
       "      <td>330</td>\n",
       "      <td>30.29</td>\n",
       "      <td>0</td>\n",
       "    </tr>\n",
       "    <tr>\n",
       "      <th>1</th>\n",
       "      <td>2018-01-01 01:00:00</td>\n",
       "      <td>8</td>\n",
       "      <td>CLR:00</td>\n",
       "      <td>-12.2</td>\n",
       "      <td>61.0</td>\n",
       "      <td>17.0</td>\n",
       "      <td>320</td>\n",
       "      <td>30.30</td>\n",
       "      <td>1</td>\n",
       "    </tr>\n",
       "    <tr>\n",
       "      <th>2</th>\n",
       "      <td>2018-01-01 02:00:00</td>\n",
       "      <td>0</td>\n",
       "      <td>CLR:00</td>\n",
       "      <td>-12.2</td>\n",
       "      <td>61.0</td>\n",
       "      <td>17.0</td>\n",
       "      <td>320</td>\n",
       "      <td>30.30</td>\n",
       "      <td>2</td>\n",
       "    </tr>\n",
       "    <tr>\n",
       "      <th>3</th>\n",
       "      <td>2018-01-01 03:00:00</td>\n",
       "      <td>0</td>\n",
       "      <td>CLR:00</td>\n",
       "      <td>-12.8</td>\n",
       "      <td>64.0</td>\n",
       "      <td>11.0</td>\n",
       "      <td>310</td>\n",
       "      <td>30.32</td>\n",
       "      <td>3</td>\n",
       "    </tr>\n",
       "    <tr>\n",
       "      <th>4</th>\n",
       "      <td>2018-01-01 04:00:00</td>\n",
       "      <td>7</td>\n",
       "      <td>CLR:00</td>\n",
       "      <td>-12.8</td>\n",
       "      <td>61.0</td>\n",
       "      <td>15.0</td>\n",
       "      <td>300</td>\n",
       "      <td>30.31</td>\n",
       "      <td>4</td>\n",
       "    </tr>\n",
       "  </tbody>\n",
       "</table>\n",
       "</div>"
      ],
      "text/plain": [
       "  tpep_pickup_datetime  num_pickups HOURLYSKYCONDITIONS  HOURLYDRYBULBTEMPC  \\\n",
       "0  2018-01-01 00:00:00           67              CLR:00               -12.2   \n",
       "1  2018-01-01 01:00:00            8              CLR:00               -12.2   \n",
       "2  2018-01-01 02:00:00            0              CLR:00               -12.2   \n",
       "3  2018-01-01 03:00:00            0              CLR:00               -12.8   \n",
       "4  2018-01-01 04:00:00            7              CLR:00               -12.8   \n",
       "\n",
       "   HOURLYRelativeHumidity  HOURLYWindSpeed HOURLYWindDirection  \\\n",
       "0                    61.0             14.0                 330   \n",
       "1                    61.0             17.0                 320   \n",
       "2                    61.0             17.0                 320   \n",
       "3                    64.0             11.0                 310   \n",
       "4                    61.0             15.0                 300   \n",
       "\n",
       "   HOURLYStationPressure  d3mIndex  \n",
       "0                  30.29         0  \n",
       "1                  30.30         1  \n",
       "2                  30.30         2  \n",
       "3                  30.32         3  \n",
       "4                  30.31         4  "
      ]
     },
     "execution_count": 24,
     "metadata": {},
     "output_type": "execute_result"
    }
   ],
   "source": [
    "learning_data.head()"
   ]
  },
  {
   "cell_type": "markdown",
   "metadata": {},
   "source": [
    "And we have our augmented data! DataMart also produces a datasetDoc JSON object for the dataset."
   ]
  },
  {
   "cell_type": "code",
   "execution_count": 25,
   "metadata": {},
   "outputs": [
    {
     "name": "stdout",
     "output_type": "stream",
     "text": [
      "{ 'about': { 'approximateSize': '539534 B',\n",
      "             'datasetID': '13196cf72800491db3226dbcf3d313ea',\n",
      "             'datasetName': '13196cf72800491db3226dbcf3d313ea',\n",
      "             'datasetSchemaVersion': '3.2.0',\n",
      "             'datasetVersion': '0.0',\n",
      "             'license': 'unknown',\n",
      "             'redacted': False},\n",
      "  'dataResources': [ { 'columns': [ { 'colIndex': 0,\n",
      "                                      'colName': 'tpep_pickup_datetime',\n",
      "                                      'colType': 'dateTime',\n",
      "                                      'role': ['attribute']},\n",
      "                                    { 'colIndex': 1,\n",
      "                                      'colName': 'num_pickups',\n",
      "                                      'colType': 'integer',\n",
      "                                      'role': ['attribute']},\n",
      "                                    { 'colIndex': 2,\n",
      "                                      'colName': 'HOURLYSKYCONDITIONS',\n",
      "                                      'colType': 'string',\n",
      "                                      'role': ['attribute']},\n",
      "                                    { 'colIndex': 3,\n",
      "                                      'colName': 'HOURLYDRYBULBTEMPC',\n",
      "                                      'colType': 'real',\n",
      "                                      'role': ['attribute']},\n",
      "                                    { 'colIndex': 4,\n",
      "                                      'colName': 'HOURLYRelativeHumidity',\n",
      "                                      'colType': 'real',\n",
      "                                      'role': ['attribute']},\n",
      "                                    { 'colIndex': 5,\n",
      "                                      'colName': 'HOURLYWindSpeed',\n",
      "                                      'colType': 'real',\n",
      "                                      'role': ['attribute']},\n",
      "                                    { 'colIndex': 6,\n",
      "                                      'colName': 'HOURLYWindDirection',\n",
      "                                      'colType': 'string',\n",
      "                                      'role': ['attribute']},\n",
      "                                    { 'colIndex': 7,\n",
      "                                      'colName': 'HOURLYStationPressure',\n",
      "                                      'colType': 'real',\n",
      "                                      'role': ['attribute']},\n",
      "                                    { 'colIndex': 8,\n",
      "                                      'colName': 'd3mIndex',\n",
      "                                      'colType': 'integer',\n",
      "                                      'role': ['index']}],\n",
      "                       'isCollection': False,\n",
      "                       'resFormat': ['text/csv'],\n",
      "                       'resID': '0',\n",
      "                       'resPath': 'tables/learningData.csv',\n",
      "                       'resType': 'table'}]}\n"
     ]
    }
   ],
   "source": [
    "pprint(dataset_doc, indent=2)"
   ]
  },
  {
   "cell_type": "code",
   "execution_count": null,
   "metadata": {},
   "outputs": [],
   "source": []
  }
 ],
 "metadata": {
  "kernelspec": {
   "display_name": "Python 3",
   "language": "python",
   "name": "python3"
  },
  "language_info": {
   "codemirror_mode": {
    "name": "ipython",
    "version": 3
   },
   "file_extension": ".py",
   "mimetype": "text/x-python",
   "name": "python",
   "nbconvert_exporter": "python",
   "pygments_lexer": "ipython3",
   "version": "3.7.1"
  }
 },
 "nbformat": 4,
 "nbformat_minor": 2
}
