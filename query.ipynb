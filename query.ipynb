{
 "cells": [
  {
   "cell_type": "code",
   "execution_count": 1,
   "metadata": {},
   "outputs": [],
   "source": [
    "import elasticsearch\n",
    "from elasticsearch_dsl import Search"
   ]
  },
  {
   "cell_type": "code",
   "execution_count": 2,
   "metadata": {},
   "outputs": [],
   "source": [
    "es = elasticsearch.Elasticsearch(['localhost:9200'])"
   ]
  },
  {
   "cell_type": "code",
   "execution_count": 3,
   "metadata": {},
   "outputs": [
    {
     "data": {
      "text/plain": [
       "{'acknowledged': True, 'index': 'datamart', 'shards_acknowledged': True}"
      ]
     },
     "execution_count": 3,
     "metadata": {},
     "output_type": "execute_result"
    }
   ],
   "source": [
    "try:\n",
    "    es.indices.delete('datamart')\n",
    "except Exception:\n",
    "    pass\n",
    "es.indices.create(\n",
    "    'datamart',\n",
    "    {\n",
    "        'mappings': {\n",
    "            '_doc': {\n",
    "                'properties': {\n",
    "                    # dataset -> metadata is a parent -> child relationship\n",
    "                    'kind': {\n",
    "                        'type': 'join',\n",
    "                        'relations': {\n",
    "                            'dataset': ['metadata', 'feedback'],\n",
    "                        },\n",
    "                    },\n",
    "                    # 'columns' is a nested field, we want to query individual columns\n",
    "                    'columns': {\n",
    "                        'type': 'nested',\n",
    "                        'properties': {\n",
    "                            'semantic_types': {\n",
    "                                'type': 'keyword',\n",
    "                                'index': True,\n",
    "                            },\n",
    "                        },\n",
    "                    },\n",
    "                },\n",
    "            },\n",
    "        },\n",
    "    },\n",
    ")"
   ]
  },
  {
   "cell_type": "markdown",
   "metadata": {},
   "source": [
    "# Test data"
   ]
  },
  {
   "cell_type": "code",
   "execution_count": 4,
   "metadata": {},
   "outputs": [
    {
     "data": {
      "text/plain": [
       "('kpswGWYBYZwEx0JzH0C_', 'k5swGWYBYZwEx0JzH0DZ')"
      ]
     },
     "execution_count": 4,
     "metadata": {},
     "output_type": "execute_result"
    }
   ],
   "source": [
    "# Discover some datasets\n",
    "doc1 = es.index(\n",
    "    'datamart',\n",
    "    '_doc',\n",
    "    {\n",
    "        'kind': 'dataset',\n",
    "        'discoverer': 'test-jupyter',\n",
    "        'url': 'http://localhost/data.csv',\n",
    "        'date': '2018-09-26T18:32:26Z',\n",
    "    },\n",
    ")['_id']\n",
    "doc2 = es.index(\n",
    "    'datamart',\n",
    "    '_doc',\n",
    "    {\n",
    "        'kind': 'dataset',\n",
    "        'discoverer': 'test-jupyter',\n",
    "        'url': 'http://localhost/data2.csv',\n",
    "        'date': '2018-09-26T19:18:32Z',\n",
    "    },\n",
    ")['_id']\n",
    "doc1, doc2"
   ]
  },
  {
   "cell_type": "code",
   "execution_count": 5,
   "metadata": {},
   "outputs": [
    {
     "data": {
      "text/plain": [
       "{'_id': 'lZswGWYBYZwEx0JzIEAz',\n",
       " '_index': 'datamart',\n",
       " '_primary_term': 1,\n",
       " '_seq_no': 1,\n",
       " '_shards': {'failed': 0, 'successful': 1, 'total': 2},\n",
       " '_type': '_doc',\n",
       " '_version': 1,\n",
       " 'result': 'created'}"
      ]
     },
     "execution_count": 5,
     "metadata": {},
     "output_type": "execute_result"
    }
   ],
   "source": [
    "# Ingest metadata\n",
    "es.index(\n",
    "    'datamart',\n",
    "    '_doc',\n",
    "    {\n",
    "        'kind': {'name': 'metadata', 'parent': doc1},\n",
    "        'ingester': 'test-jupyter',\n",
    "        'date': '2018-09-26T18:33:56Z',\n",
    "        'keywords': ['weather', 'united states'],\n",
    "        'columns': [\n",
    "            {\n",
    "                'name': 'lat',\n",
    "                'type': 'real',\n",
    "                'semantic_types': ['Real', 'Latitude'],\n",
    "                'distribution': [\n",
    "                    {\n",
    "                        'type': 'range_float',\n",
    "                        'min_float': 42.98,\n",
    "                        'max_float': 43.42,\n",
    "                    },\n",
    "                    {\n",
    "                        'type': 'normal',\n",
    "                        'mean': 43.0,\n",
    "                        'std_dev': 0.3,\n",
    "                    },\n",
    "                ],\n",
    "            },\n",
    "            {\n",
    "                'name': 'long',\n",
    "                'type': 'real',\n",
    "                'semantic_types': ['Real', 'Longitude'],\n",
    "                'distribution': [\n",
    "                    {\n",
    "                        'type': 'range_float',\n",
    "                        'min_float': 0.41,\n",
    "                        'max_float': 7.02,\n",
    "                    },\n",
    "                ],\n",
    "            },\n",
    "            {\n",
    "                'name': 'temp',\n",
    "                'type': 'real',\n",
    "                'semantic_types': ['Real', 'Temperature', 'Fahrenheit'],\n",
    "                'distribution': [\n",
    "                    {\n",
    "                        'type': 'range_float',\n",
    "                        'min_float': 24.74,\n",
    "                        'max_float': 29.18,\n",
    "                    },\n",
    "                ],\n",
    "            },\n",
    "        ],\n",
    "    },\n",
    "    routing=doc1,\n",
    ")\n",
    "es.index(\n",
    "    'datamart',\n",
    "    '_doc',\n",
    "    {\n",
    "        'kind': {'name': 'metadata', 'parent': doc2},\n",
    "        'ingester': 'test-jupyter',\n",
    "        'date': '2018-09-26T19:20:02Z',\n",
    "        'keywords': ['weather', 'new york'],\n",
    "        'columns': [\n",
    "            {\n",
    "                'name': 'date',\n",
    "                'type': 'string',\n",
    "                'semantic_types': ['Date'],\n",
    "                'distribution': [\n",
    "                    {\n",
    "                        'type': 'range_string',\n",
    "                        'min_string': '2001-01-01T00:01:02Z',\n",
    "                        'max_string': '2004-12-30T23:57:17Z',\n",
    "                    },\n",
    "                ],\n",
    "            },\n",
    "            {\n",
    "                'name': 'temp',\n",
    "                'type': 'real',\n",
    "                'semantic_types': ['Real', 'Temperature', 'Fahrenheit'],\n",
    "                'distribution': [\n",
    "                    {\n",
    "                        'type': 'range_float',\n",
    "                        'min_float': 24.74,\n",
    "                        'max_float': 29.18,\n",
    "                    },\n",
    "                ],\n",
    "            },\n",
    "        ],\n",
    "    },\n",
    "    routing=doc2,\n",
    ")"
   ]
  },
  {
   "cell_type": "code",
   "execution_count": 6,
   "metadata": {},
   "outputs": [
    {
     "data": {
      "text/plain": [
       "{'_id': 'lpswGWYBYZwEx0JzIEBc',\n",
       " '_index': 'datamart',\n",
       " '_primary_term': 1,\n",
       " '_seq_no': 2,\n",
       " '_shards': {'failed': 0, 'successful': 1, 'total': 2},\n",
       " '_type': '_doc',\n",
       " '_version': 1,\n",
       " 'result': 'created'}"
      ]
     },
     "execution_count": 6,
     "metadata": {},
     "output_type": "execute_result"
    }
   ],
   "source": [
    "# Feedback from consumer?\n",
    "es.index(\n",
    "    'datamart',\n",
    "    '_doc',\n",
    "    {\n",
    "        'kind': {'name': 'feedback', 'parent': doc2},\n",
    "        'consumer': 'ta2-jupyter',\n",
    "        'date': '2018-09-26T23:41:21Z',\n",
    "        'problem': 'org.datadrivendiscovery.185_baseball_problem.1_0',\n",
    "        'scores': {\n",
    "            'mean_squared_error': 0.54633,\n",
    "        },\n",
    "    },\n",
    "    routing=doc2,\n",
    ")"
   ]
  },
  {
   "cell_type": "markdown",
   "metadata": {},
   "source": [
    "# Search"
   ]
  },
  {
   "cell_type": "code",
   "execution_count": 7,
   "metadata": {},
   "outputs": [
    {
     "data": {
      "text/plain": [
       "{'date': '2018-09-26T18:32:26Z',\n",
       " 'discoverer': 'test-jupyter',\n",
       " 'kind': 'dataset',\n",
       " 'url': 'http://localhost/data.csv'}"
      ]
     },
     "execution_count": 7,
     "metadata": {},
     "output_type": "execute_result"
    }
   ],
   "source": [
    "# Get a dataset\n",
    "es.get('datamart', '_doc', id=doc1)['_source']"
   ]
  },
  {
   "cell_type": "code",
   "execution_count": 8,
   "metadata": {},
   "outputs": [
    {
     "data": {
      "text/plain": [
       "[]"
      ]
     },
     "execution_count": 8,
     "metadata": {},
     "output_type": "execute_result"
    }
   ],
   "source": [
    "# Search for datasets\n",
    "s = (\n",
    "    Search(using=es, index='datamart', doc_type='_doc')\n",
    "    .query('match', kind='dataset')\n",
    "    .query('match', discoverer='test-jupyter')\n",
    ")\n",
    "\n",
    "list(s.execute())"
   ]
  },
  {
   "cell_type": "code",
   "execution_count": 9,
   "metadata": {},
   "outputs": [
    {
     "data": {
      "text/plain": [
       "{'_shards': {'failed': 0, 'skipped': 0, 'successful': 5, 'total': 5},\n",
       " 'hits': {'hits': [], 'max_score': None, 'total': 0},\n",
       " 'timed_out': False,\n",
       " 'took': 19}"
      ]
     },
     "execution_count": 9,
     "metadata": {},
     "output_type": "execute_result"
    }
   ],
   "source": [
    "# Search for datasets via metadata\n",
    "es.search(\n",
    "    index='datamart',\n",
    "    body={\n",
    "        'query': {\n",
    "            'bool': {\n",
    "                'must': [\n",
    "                    {\n",
    "                        'has_child': {\n",
    "                            'type': 'metadata',\n",
    "                            # Metadata with specific keywords\n",
    "                            'query': {\n",
    "                                'term': {\n",
    "                                    'keywords': 'weather',\n",
    "                                },\n",
    "                            },\n",
    "                        },\n",
    "                    },\n",
    "                    {\n",
    "                        'has_child': {\n",
    "                            'type': 'metadata',\n",
    "                            'query': {\n",
    "                                'nested': {\n",
    "                                    'path': 'columns',\n",
    "                                    # Metadata with specific columns\n",
    "                                    'query': {\n",
    "                                        'terms': {'columns.semantic_types': ['Latitude']},\n",
    "                                    },\n",
    "                                },\n",
    "                            },\n",
    "                        },\n",
    "                    },\n",
    "                ],\n",
    "            },\n",
    "        },\n",
    "    },\n",
    ")"
   ]
  }
 ],
 "metadata": {
  "kernelspec": {
   "display_name": "Python 3",
   "language": "python",
   "name": "python3"
  },
  "language_info": {
   "codemirror_mode": {
    "name": "ipython",
    "version": 3
   },
   "file_extension": ".py",
   "mimetype": "text/x-python",
   "name": "python",
   "nbconvert_exporter": "python",
   "pygments_lexer": "ipython3",
   "version": "3.6.3"
  }
 },
 "nbformat": 4,
 "nbformat_minor": 2
}
