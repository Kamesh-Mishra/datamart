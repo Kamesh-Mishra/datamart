{
 "cells": [
  {
   "cell_type": "code",
   "execution_count": 1,
   "metadata": {},
   "outputs": [],
   "source": [
    "import os\n",
    "os.environ['DATAMART_VERSION'] = 'v0.0'"
   ]
  },
  {
   "cell_type": "code",
   "execution_count": 2,
   "metadata": {},
   "outputs": [],
   "source": [
    "import logging\n",
    "logging.getLogger().handlers[:] = []\n",
    "logging.basicConfig(level=logging.INFO)"
   ]
  },
  {
   "cell_type": "code",
   "execution_count": 3,
   "metadata": {},
   "outputs": [],
   "source": [
    "import io\n",
    "import pandas\n",
    "\n",
    "from datamart_augmentation.augmentation import augment\n",
    "from tests.test_integ import basic_aug_data"
   ]
  },
  {
   "cell_type": "code",
   "execution_count": 4,
   "metadata": {},
   "outputs": [],
   "source": [
    "data = basic_aug_data.encode('utf-8')\n",
    "newdata = 'tests/data/basic.csv'\n",
    "metadata = {'size': 55, 'nb_rows': 5, 'columns': [{'name': 'number', 'structural_type': 'http://schema.org/Integer', 'semantic_types': [], 'mean': 6.4, 'stddev': 2.5768197453450252, 'coverage': [{'range': {'gte': 10.0, 'lte': 10.0}}, {'range': {'gte': 3.0, 'lte': 4.0}}, {'range': {'gte': 7.0, 'lte': 8.0}}]}, {'name': 'desk_faces', 'structural_type': 'http://schema.org/Text', 'semantic_types': ['https://schema.org/Enumeration']}], 'lazo': [{'name': 'desk_faces', 'n_permutations': 256, 'hash_values': [51266754, 127011666, 37890720, 404448749, 241650376, 144371731, 37112629, 80726490, 32000843, 124337214, 14385747, 82564269, 258151743, 112571206, 156809826, 27329189, 74718412, 90238585, 198357585, 39633096, 92011225, 201703511, 23689811, 201386015, 153599966, 125645997, 27687496, 116796540, 9526274, 39107730, 367089002, 58277232, 63149737, 249239715, 139740756, 245367872, 120571027, 126299867, 55794966, 288614280, 51377288, 229334109, 130718920, 80235678, 170025214, 118353103, 101916150, 144133708, 90378097, 65781267, 37409580, 156114576, 111527026, 27560076, 80493105, 44935293, 93886297, 71894161, 173943684, 95808617, 126286033, 16088519, 160126942, 80825146, 61905116, 297527964, 261087884, 220478366, 18605730, 237053842, 122597454, 62265635, 247797969, 323448338, 174347460, 108634187, 197592844, 221018554, 82330013, 24460288, 228144593, 309678619, 257998279, 223323289, 152231740, 67803252, 135546887, 243644709, 298968946, 29934745, 204722348, 64604160, 35331993, 118194029, 113724797, 36477888, 214919844, 408841283, 213356229, 89885252, 62366401, 299189003, 32491050, 162098227, 33223704, 96744418, 193003564, 214313684, 248221897, 136113706, 36546533, 477694, 121714197, 232712578, 326478939, 75502859, 402780707, 84081165, 54768243, 224658358, 18077295, 2235497, 1317153, 215230924, 77481010, 92635477, 79697576, 147050425, 65315319, 265122720, 365491571, 28834928, 234257656, 1702113, 149345279, 172398076, 195771538, 288883800, 120237556, 104838135, 143714822, 273093098, 109798453, 22927159, 185067352, 164415644, 203029870, 122313809, 285285008, 24897486, 170463212, 102355053, 16609863, 111077127, 136363663, 157084088, 24149665, 20795175, 172669258, 114466788, 381756519, 235665254, 277323786, 131125733, 139985530, 82043545, 45779775, 190528033, 127539661, 154598728, 188268830, 247870996, 199083778, 96202514, 83813707, 302775302, 125735251, 289818116, 26051609, 47190832, 4577460, 38282522, 11512651, 4295374, 33985132, 436295459, 45276426, 251261301, 55682888, 145619084, 179663659, 253048645, 8033911, 82868717, 95093431, 45675789, 56377399, 88883877, 150191439, 229407504, 202376194, 54096057, 45092399, 31699594, 109448547, 363105848, 139658698, 29325665, 96242043, 12382893, 94832768, 35843697, 8285201, 190972511, 101315170, 295732686, 108794168, 180942975, 167017768, 297409754, 169259539, 201421130, 78454067, 221597118, 298097214, 2990585, 11651799, 47094688, 201614582, 49026367, 104198169, 100013179, 47259628, 203143170, 155270611, 245859360, 25924453, 478588898, 98737402, 284944654, 9196587, 40985358, 64805414, 454326527, 2989885, 15858652, 108117175, 111240434, 28315662, 81690323, 177182142, 266452508, 22348285, 58759055, 320633600, 321865277], 'cardinality': 3}]}\n",
    "task = {'id': 'datamart.test.basic', 'metadata': {'name': 'basic', 'description': 'This is a very simple CSV with people', 'size': 126, 'nb_rows': 5, 'columns': [{'name': 'name', 'structural_type': 'http://schema.org/Text', 'semantic_types': ['https://schema.org/Enumeration']}, {'name': 'country', 'structural_type': 'http://schema.org/Text', 'semantic_types': ['https://schema.org/Enumeration']}, {'name': 'number', 'structural_type': 'http://schema.org/Integer', 'semantic_types': [], 'mean': 6.4, 'stddev': 2.5768197453450252, 'coverage': [{'range': {'gte': 10.0, 'lte': 10.0}}, {'range': {'gte': 3.0, 'lte': 4.0}}, {'range': {'gte': 7.0, 'lte': 8.0}}]}, {'name': 'what', 'structural_type': 'http://schema.org/Text', 'semantic_types': ['http://schema.org/Boolean', 'https://schema.org/Enumeration']}], 'materialize': {'direct_url': 'http://test_discoverer:7000/basic.csv', 'identifier': 'datamart.test', 'date': '2019-08-08T15:16:25.458468Z'}, 'date': '2019-08-08T15:16:27.019063Z', 'version': 'v0.0'}, 'score': 1.0, 'augmentation': {'left_columns': [[0]], 'left_columns_names': [['number']], 'right_columns': [[2]], 'right_columns_names': [['number']], 'type': 'join'}, 'supplied_id': None, 'supplied_resource_id': None}"
   ]
  },
  {
   "cell_type": "code",
   "execution_count": 5,
   "metadata": {},
   "outputs": [
    {
     "name": "stderr",
     "output_type": "stream",
     "text": [
      "INFO:datamart_augmentation.augmentation:Performing join...\n",
      "INFO:datamart_augmentation.augmentation:Column number converted to numeric (int) in 0.0021s\n",
      "INFO:datamart_augmentation.augmentation:Column number converted to numeric (int) in 0.0007s\n",
      "INFO:datamart_augmentation.augmentation:Join completed in 0.0024s\n"
     ]
    },
    {
     "data": {
      "text/plain": [
       "'/tmp/datamart_aug_790u6f99/dataset'"
      ]
     },
     "execution_count": 5,
     "metadata": {},
     "output_type": "execute_result"
    }
   ],
   "source": [
    "augment(\n",
    "    data,\n",
    "    newdata,\n",
    "    metadata,\n",
    "    task,\n",
    ")"
   ]
  },
  {
   "cell_type": "code",
   "execution_count": null,
   "metadata": {},
   "outputs": [],
   "source": []
  }
 ],
 "metadata": {
  "kernelspec": {
   "display_name": "_datamart",
   "language": "python",
   "name": "_datamart"
  },
  "language_info": {
   "codemirror_mode": {
    "name": "ipython",
    "version": 3
   },
   "file_extension": ".py",
   "mimetype": "text/x-python",
   "name": "python",
   "nbconvert_exporter": "python",
   "pygments_lexer": "ipython3",
   "version": "3.6.8"
  }
 },
 "nbformat": 4,
 "nbformat_minor": 2
}
